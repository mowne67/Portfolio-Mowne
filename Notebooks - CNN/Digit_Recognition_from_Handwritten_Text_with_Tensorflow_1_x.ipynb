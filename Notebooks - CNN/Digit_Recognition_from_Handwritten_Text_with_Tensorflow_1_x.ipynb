{
  "nbformat": 4,
  "nbformat_minor": 0,
  "metadata": {
    "colab": {
      "name": "Digit Recognition from Handwritten Text with Tensorflow 1.x",
      "provenance": [],
      "collapsed_sections": [],
      "authorship_tag": "ABX9TyNvy1/Owj8oxLVo/WJukOAc",
      "include_colab_link": true
    },
    "kernelspec": {
      "name": "python3",
      "display_name": "Python 3"
    },
    "language_info": {
      "name": "python"
    }
  },
  "cells": [
    {
      "cell_type": "markdown",
      "metadata": {
        "id": "view-in-github",
        "colab_type": "text"
      },
      "source": [
        "<a href=\"https://colab.research.google.com/github/mowne67/Portfolio-Mowne/blob/main/Digit_Recognition_from_Handwritten_Text_with_Tensorflow_1_x.ipynb\" target=\"_parent\"><img src=\"https://colab.research.google.com/assets/colab-badge.svg\" alt=\"Open In Colab\"/></a>"
      ]
    },
    {
      "cell_type": "markdown",
      "metadata": {
        "id": "KHXrPUfg4X_I"
      },
      "source": [
        "#Digit Recogntion from Handwritten Text with Tensorflow\n",
        "##Loading the dataset\n",
        "We take hand-drawn images of the numbers 0-9 and build and train a neural network to recognize and predict the correct label for the digit displayed. \n",
        "MNIST dataset is used for the handwritten images."
      ]
    },
    {
      "cell_type": "code",
      "metadata": {
        "colab": {
          "base_uri": "https://localhost:8080/"
        },
        "id": "u6t8YSLOj49_",
        "outputId": "6a211d3f-ee14-4fb5-80cd-beed8206de0f"
      },
      "source": [
        "%tensorflow_version 1.x"
      ],
      "execution_count": 1,
      "outputs": [
        {
          "output_type": "stream",
          "text": [
            "TensorFlow 1.x selected.\n"
          ],
          "name": "stdout"
        }
      ]
    },
    {
      "cell_type": "markdown",
      "metadata": {
        "id": "BQAcu9i34-KE"
      },
      "source": [
        "Loading the MNIST dataset"
      ]
    },
    {
      "cell_type": "code",
      "metadata": {
        "colab": {
          "base_uri": "https://localhost:8080/"
        },
        "id": "17LUeoxIgZrV",
        "outputId": "7fc9e35a-d6ee-4ce1-af44-8c77a80b9e6a"
      },
      "source": [
        "import tensorflow as tf\n",
        "from tensorflow.examples.tutorials.mnist import input_data\n",
        "mnist = input_data.read_data_sets(\"MNIST_data/\", one_hot=True)"
      ],
      "execution_count": 2,
      "outputs": [
        {
          "output_type": "stream",
          "text": [
            "WARNING:tensorflow:From <ipython-input-2-89847c176cd8>:3: read_data_sets (from tensorflow.contrib.learn.python.learn.datasets.mnist) is deprecated and will be removed in a future version.\n",
            "Instructions for updating:\n",
            "Please use alternatives such as official/mnist/dataset.py from tensorflow/models.\n",
            "WARNING:tensorflow:From /tensorflow-1.15.2/python3.7/tensorflow_core/contrib/learn/python/learn/datasets/mnist.py:260: maybe_download (from tensorflow.contrib.learn.python.learn.datasets.base) is deprecated and will be removed in a future version.\n",
            "Instructions for updating:\n",
            "Please write your own downloading logic.\n",
            "WARNING:tensorflow:From /tensorflow-1.15.2/python3.7/tensorflow_core/contrib/learn/python/learn/datasets/base.py:252: _internal_retry.<locals>.wrap.<locals>.wrapped_fn (from tensorflow.contrib.learn.python.learn.datasets.base) is deprecated and will be removed in a future version.\n",
            "Instructions for updating:\n",
            "Please use urllib or similar directly.\n",
            "Successfully downloaded train-images-idx3-ubyte.gz 9912422 bytes.\n",
            "WARNING:tensorflow:From /tensorflow-1.15.2/python3.7/tensorflow_core/contrib/learn/python/learn/datasets/mnist.py:262: extract_images (from tensorflow.contrib.learn.python.learn.datasets.mnist) is deprecated and will be removed in a future version.\n",
            "Instructions for updating:\n",
            "Please use tf.data to implement this functionality.\n",
            "Extracting MNIST_data/train-images-idx3-ubyte.gz\n",
            "Successfully downloaded train-labels-idx1-ubyte.gz 28881 bytes.\n",
            "WARNING:tensorflow:From /tensorflow-1.15.2/python3.7/tensorflow_core/contrib/learn/python/learn/datasets/mnist.py:267: extract_labels (from tensorflow.contrib.learn.python.learn.datasets.mnist) is deprecated and will be removed in a future version.\n",
            "Instructions for updating:\n",
            "Please use tf.data to implement this functionality.\n",
            "Extracting MNIST_data/train-labels-idx1-ubyte.gz\n",
            "WARNING:tensorflow:From /tensorflow-1.15.2/python3.7/tensorflow_core/contrib/learn/python/learn/datasets/mnist.py:110: dense_to_one_hot (from tensorflow.contrib.learn.python.learn.datasets.mnist) is deprecated and will be removed in a future version.\n",
            "Instructions for updating:\n",
            "Please use tf.one_hot on tensors.\n",
            "Successfully downloaded t10k-images-idx3-ubyte.gz 1648877 bytes.\n",
            "Extracting MNIST_data/t10k-images-idx3-ubyte.gz\n",
            "Successfully downloaded t10k-labels-idx1-ubyte.gz 4542 bytes.\n",
            "Extracting MNIST_data/t10k-labels-idx1-ubyte.gz\n",
            "WARNING:tensorflow:From /tensorflow-1.15.2/python3.7/tensorflow_core/contrib/learn/python/learn/datasets/mnist.py:290: DataSet.__init__ (from tensorflow.contrib.learn.python.learn.datasets.mnist) is deprecated and will be removed in a future version.\n",
            "Instructions for updating:\n",
            "Please use alternatives such as official/mnist/dataset.py from tensorflow/models.\n"
          ],
          "name": "stdout"
        }
      ]
    },
    {
      "cell_type": "markdown",
      "metadata": {
        "id": "LQ0_aw4E5C3b"
      },
      "source": [
        "70,000 available images in the dataset is split into three groups(train,test, validation). The number of images in each set is given in the comments."
      ]
    },
    {
      "cell_type": "code",
      "metadata": {
        "id": "SHTF-NLWjL6G"
      },
      "source": [
        "n_train = mnist.train.num_examples # 55,000\n",
        "n_validation = mnist.validation.num_examples # 5000\n",
        "n_test = mnist.test.num_examples # 10,000"
      ],
      "execution_count": 3,
      "outputs": []
    },
    {
      "cell_type": "markdown",
      "metadata": {
        "id": "yp2kxwVT6POO"
      },
      "source": [
        "##Neural Network Architecture"
      ]
    },
    {
      "cell_type": "markdown",
      "metadata": {
        "id": "sLKcLCe-5b_b"
      },
      "source": [
        "The number of layers with their dimensions to be used for our neural network in one place(Useful for tweaking later)"
      ]
    },
    {
      "cell_type": "code",
      "metadata": {
        "id": "ukgyYTnejtwK"
      },
      "source": [
        "n_input = 784 # input layer (28x28 pixels)\n",
        "n_hidden1 = 512 # 1st hidden layer\n",
        "n_hidden2 = 256 # 2nd hidden layer\n",
        "n_hidden3 = 128 # 3rd hidden layer\n",
        "n_output = 10 # output layer (0-9 digits)"
      ],
      "execution_count": 4,
      "outputs": []
    },
    {
      "cell_type": "markdown",
      "metadata": {
        "id": "nr100hbd6Avk"
      },
      "source": [
        "Hyperparameters:"
      ]
    },
    {
      "cell_type": "code",
      "metadata": {
        "id": "B9mEHpab0Kpe"
      },
      "source": [
        "learning_rate = 1e-4\n",
        "n_iterations = 1000\n",
        "batch_size = 128\n",
        "dropout = 0.5"
      ],
      "execution_count": 5,
      "outputs": []
    },
    {
      "cell_type": "markdown",
      "metadata": {
        "id": "xBr-6EUA6p33"
      },
      "source": [
        "##Building the Tensorflow Graph"
      ]
    },
    {
      "cell_type": "markdown",
      "metadata": {
        "id": "gl4xfEZa7DBD"
      },
      "source": [
        "We’ll start by defining three tensors as placeholders.\n",
        "For X we use a shape of [None, 784], where None represents any amount, as we will be feeding in an undefined number of 784-pixel images. The shape of Y is [None, 10] as we will be using it for an undefined number of label outputs, with 10 possible classes."
      ]
    },
    {
      "cell_type": "code",
      "metadata": {
        "id": "stw2iUbW0hb9"
      },
      "source": [
        "X = tf.placeholder(\"float\", [None, n_input])\n",
        "Y = tf.placeholder(\"float\", [None, n_output])\n",
        "keep_prob = tf.placeholder(tf.float32)"
      ],
      "execution_count": 6,
      "outputs": []
    },
    {
      "cell_type": "markdown",
      "metadata": {
        "id": "hLA-jy7p7hUa"
      },
      "source": [
        "We’ll use random values from a truncated normal distribution for the weights. We want them to be close to zero, so they can adjust in either a positive or negative direction, and slightly different, so they generate different errors.\n",
        "For the bias, we use a small constant value to ensure that the tensors activate in the intial stages and therefore contribute to the propagation.\n",
        "The weights and bias tensors are stored in dictionary objects for ease of access."
      ]
    },
    {
      "cell_type": "code",
      "metadata": {
        "id": "jcRdxDvV0rTN"
      },
      "source": [
        "weights = {\n",
        "'w1': tf.Variable(tf.truncated_normal([n_input, n_hidden1],\n",
        "stddev=0.1)),\n",
        "'w2': tf.Variable(tf.truncated_normal([n_hidden1, n_hidden2],\n",
        "stddev=0.1)),\n",
        "'w3': tf.Variable(tf.truncated_normal([n_hidden2, n_hidden3],\n",
        "stddev=0.1)),\n",
        "'out': tf.Variable(tf.truncated_normal([n_hidden3, n_output],\n",
        "stddev=0.1)),\n",
        "}\n",
        "\n",
        "biases = {\n",
        "'b1': tf.Variable(tf.constant(0.1, shape=[n_hidden1])),\n",
        "'b2': tf.Variable(tf.constant(0.1, shape=[n_hidden2])),\n",
        "'b3': tf.Variable(tf.constant(0.1, shape=[n_hidden3])),\n",
        "'out': tf.Variable(tf.constant(0.1, shape=[n_output]))\n",
        "}"
      ],
      "execution_count": 8,
      "outputs": []
    },
    {
      "cell_type": "code",
      "metadata": {
        "colab": {
          "base_uri": "https://localhost:8080/"
        },
        "id": "IxpdXUrn0zBf",
        "outputId": "f6cebdf3-99a9-457f-c1c3-be11fabba4d3"
      },
      "source": [
        "layer_1 = tf.add(tf.matmul(X, weights['w1']), biases['b1'])\n",
        "layer_2 = tf.add(tf.matmul(layer_1, weights['w2']), biases['b2'])\n",
        "layer_3 = tf.add(tf.matmul(layer_2, weights['w3']), biases['b3'])\n",
        "layer_drop = tf.nn.dropout(layer_3, keep_prob)\n",
        "output_layer = tf.matmul(layer_3, weights['out']) + biases['out']"
      ],
      "execution_count": 9,
      "outputs": [
        {
          "output_type": "stream",
          "text": [
            "WARNING:tensorflow:From <ipython-input-9-4c6ba2d2ed2c>:4: calling dropout (from tensorflow.python.ops.nn_ops) with keep_prob is deprecated and will be removed in a future version.\n",
            "Instructions for updating:\n",
            "Please use `rate` instead of `keep_prob`. Rate should be set to `rate = 1 - keep_prob`.\n"
          ],
          "name": "stdout"
        }
      ]
    },
    {
      "cell_type": "markdown",
      "metadata": {
        "id": "xS0etIj68FEd"
      },
      "source": [
        "Each hidden layer will execute matrix multiplication on the previous\n",
        "layer’s outputs and the current layer’s weights, and add the bias to these values. At the last hidden layer, we will apply a dropout operation using our keep_prob value of 0.5. Each hidden layer will execute matrix multiplication on the previous layer’s outputs and the current layer’s weights, and add the bias to these values. At the last hidden layer, we will apply a dropout operation using our keep_prob value of 0.5."
      ]
    },
    {
      "cell_type": "code",
      "metadata": {
        "colab": {
          "base_uri": "https://localhost:8080/"
        },
        "id": "i7IQj88N06Jz",
        "outputId": "2dd5fbe0-fa37-406a-ba12-801bfc478f2e"
      },
      "source": [
        "cross_entropy = tf.reduce_mean(\n",
        "tf.nn.softmax_cross_entropy_with_logits(\n",
        "labels=Y, logits=output_layer\n",
        "))\n",
        "train_step = tf.train.AdamOptimizer(1e-4).minimize(cross_entropy)"
      ],
      "execution_count": 10,
      "outputs": [
        {
          "output_type": "stream",
          "text": [
            "WARNING:tensorflow:From <ipython-input-10-c48d33873673>:3: softmax_cross_entropy_with_logits (from tensorflow.python.ops.nn_ops) is deprecated and will be removed in a future version.\n",
            "Instructions for updating:\n",
            "\n",
            "Future major versions of TensorFlow will allow gradients to flow\n",
            "into the labels input on backprop by default.\n",
            "\n",
            "See `tf.nn.softmax_cross_entropy_with_logits_v2`.\n",
            "\n"
          ],
          "name": "stdout"
        }
      ]
    },
    {
      "cell_type": "markdown",
      "metadata": {
        "id": "nrpNCcfX8jby"
      },
      "source": [
        "##Training and Testing"
      ]
    },
    {
      "cell_type": "code",
      "metadata": {
        "id": "RhHxp2Ay1CSZ"
      },
      "source": [
        "correct_pred = tf.equal(tf.argmax(output_layer, 1), tf.argmax(Y, 1))\n",
        "accuracy = tf.reduce_mean(tf.cast(correct_pred, tf.float32))"
      ],
      "execution_count": 11,
      "outputs": []
    },
    {
      "cell_type": "markdown",
      "metadata": {
        "id": "lCqHy5Jg8WxY"
      },
      "source": [
        ""
      ]
    },
    {
      "cell_type": "code",
      "metadata": {
        "id": "TBuXD2Qf1IAU"
      },
      "source": [
        "init = tf.global_variables_initializer()\n",
        "sess = tf.Session()\n",
        "sess.run(init)"
      ],
      "execution_count": 12,
      "outputs": []
    },
    {
      "cell_type": "code",
      "metadata": {
        "colab": {
          "base_uri": "https://localhost:8080/"
        },
        "id": "YE1Xm_lH1OFs",
        "outputId": "29b6f0e7-c443-4245-926e-ee94c8aadedb"
      },
      "source": [
        "# train on mini batches\n",
        "for i in range(n_iterations):\n",
        "    batch_x, batch_y = mnist.train.next_batch(batch_size)\n",
        "    sess.run(train_step, feed_dict={\n",
        "        X: batch_x, Y: batch_y, keep_prob: dropout\n",
        "        })\n",
        "# print loss and accuracy (per minibatch)\n",
        "    if i % 100 == 0:\n",
        "        minibatch_loss, minibatch_accuracy = sess.run(\n",
        "            [cross_entropy, accuracy],\n",
        "            feed_dict={X: batch_x, Y: batch_y, keep_prob: 1.0}\n",
        "            )\n",
        "        print(\n",
        "            \"Iteration\",\n",
        "            str(i),\n",
        "            \"\\t| Loss =\",\n",
        "            str(minibatch_loss),\n",
        "            \"\\t| Accuracy =\",\n",
        "            str(minibatch_accuracy)\n",
        "            )"
      ],
      "execution_count": 14,
      "outputs": [
        {
          "output_type": "stream",
          "text": [
            "Iteration 0 \t| Loss = 3.8061132 \t| Accuracy = 0.1171875\n",
            "Iteration 100 \t| Loss = 0.43350315 \t| Accuracy = 0.8515625\n",
            "Iteration 200 \t| Loss = 0.62068903 \t| Accuracy = 0.8125\n",
            "Iteration 300 \t| Loss = 0.2588395 \t| Accuracy = 0.90625\n",
            "Iteration 400 \t| Loss = 0.31053126 \t| Accuracy = 0.921875\n",
            "Iteration 500 \t| Loss = 0.3340416 \t| Accuracy = 0.90625\n",
            "Iteration 600 \t| Loss = 0.36474055 \t| Accuracy = 0.90625\n",
            "Iteration 700 \t| Loss = 0.334742 \t| Accuracy = 0.90625\n",
            "Iteration 800 \t| Loss = 0.46073124 \t| Accuracy = 0.8984375\n",
            "Iteration 900 \t| Loss = 0.33100516 \t| Accuracy = 0.9140625\n"
          ],
          "name": "stdout"
        }
      ]
    },
    {
      "cell_type": "markdown",
      "metadata": {
        "id": "TdIkR1xC8z_5"
      },
      "source": [
        "Once the training is complete, we can run the session on the test\n",
        "images. This time we are using a keep_prob dropout rate o f 1.0 to\n",
        "ensure all units are active in the testing process."
      ]
    },
    {
      "cell_type": "code",
      "metadata": {
        "colab": {
          "base_uri": "https://localhost:8080/"
        },
        "id": "XCJRHbbG2L-x",
        "outputId": "e2bd0d9e-7f20-4027-aff2-132101695632"
      },
      "source": [
        "test_accuracy = sess.run(accuracy, feed_dict={X: mnist.test.images, Y:\n",
        "mnist.test.labels, keep_prob: 1.0})\n",
        "print(\"\\nAccuracy on test set:\", test_accuracy)"
      ],
      "execution_count": 15,
      "outputs": [
        {
          "output_type": "stream",
          "text": [
            "\n",
            "Accuracy on test set: 0.916\n"
          ],
          "name": "stdout"
        }
      ]
    },
    {
      "cell_type": "markdown",
      "metadata": {
        "id": "HNTdcbKJ9Fr2"
      },
      "source": [
        "##Trying an example Image to recognize a digit:"
      ]
    },
    {
      "cell_type": "markdown",
      "metadata": {
        "id": "Y9Oe-KJU-Iqu"
      },
      "source": [
        "You can try out predicting digits from an image by replacing test_image.png with your image path."
      ]
    },
    {
      "cell_type": "code",
      "metadata": {
        "id": "P9A-fWGv9FFF"
      },
      "source": [
        "import numpy as np\n",
        "from PIL import Image\n",
        "img = np.invert(Image.open(\"test_image.png\").convert('L')).ravel()\n",
        "prediction = sess.run(tf.argmax(output_layer, 1), feed_dict={X: [img]})\n",
        "print (\"Prediction for test image:\", np.squeeze(prediction))"
      ],
      "execution_count": null,
      "outputs": []
    }
  ]
}
