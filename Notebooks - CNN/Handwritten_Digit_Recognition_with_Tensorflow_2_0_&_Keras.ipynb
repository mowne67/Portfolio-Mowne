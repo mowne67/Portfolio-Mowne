{
  "nbformat": 4,
  "nbformat_minor": 0,
  "metadata": {
    "colab": {
      "name": "Handwritten Digit Recognition with Tensorflow 2.0 & Keras.ipynb",
      "provenance": [],
      "authorship_tag": "ABX9TyPVWiGLipoUm+FiEhwdQwLn",
      "include_colab_link": true
    },
    "kernelspec": {
      "name": "python3",
      "display_name": "Python 3"
    },
    "language_info": {
      "name": "python"
    }
  },
  "cells": [
    {
      "cell_type": "markdown",
      "metadata": {
        "id": "view-in-github",
        "colab_type": "text"
      },
      "source": [
        "<a href=\"https://colab.research.google.com/github/mowne67/Portfolio-Mowne/blob/main/Handwritten_Digit_Recognition_with_Tensorflow_2_0_%26_Keras.ipynb\" target=\"_parent\"><img src=\"https://colab.research.google.com/assets/colab-badge.svg\" alt=\"Open In Colab\"/></a>"
      ]
    },
    {
      "cell_type": "markdown",
      "metadata": {
        "id": "5NGqv6TlMAv3"
      },
      "source": [
        "#Handwritten Digit Recognition with Tensorflow 2.0 (Keras)"
      ]
    },
    {
      "cell_type": "code",
      "metadata": {
        "id": "0gVYlGC8vewD"
      },
      "source": [
        "import tensorflow as tf\n",
        "\n",
        "from tensorflow.keras import datasets, layers, models\n",
        "import matplotlib.pyplot as plt"
      ],
      "execution_count": 1,
      "outputs": []
    },
    {
      "cell_type": "markdown",
      "metadata": {
        "id": "HzSM79ftL6Gn"
      },
      "source": [
        "##Loading the dataset"
      ]
    },
    {
      "cell_type": "markdown",
      "metadata": {
        "id": "YWmcZvfayogi"
      },
      "source": [
        "We download and use the MNIST dataset for Handwritten Digits. The greyscale values of the pixels are changed to float."
      ]
    },
    {
      "cell_type": "code",
      "metadata": {
        "colab": {
          "base_uri": "https://localhost:8080/"
        },
        "id": "cwFMraMVZ6JV",
        "outputId": "1bc2729d-9d80-4ef7-ecbb-04552d70827a"
      },
      "source": [
        "(train_images, train_labels), (test_images, test_labels) = datasets.mnist.load_data()\n",
        "\n",
        "train_images, test_images = train_images / 255.0, test_images / 255.0\n",
        "\n",
        "class_names=['0','1','2','3','4','5','6','7','8','9']"
      ],
      "execution_count": 2,
      "outputs": [
        {
          "output_type": "stream",
          "text": [
            "Downloading data from https://storage.googleapis.com/tensorflow/tf-keras-datasets/mnist.npz\n",
            "11493376/11490434 [==============================] - 0s 0us/step\n"
          ],
          "name": "stdout"
        }
      ]
    },
    {
      "cell_type": "code",
      "metadata": {
        "colab": {
          "base_uri": "https://localhost:8080/"
        },
        "id": "XBXH3540bTya",
        "outputId": "90cd4fe1-83ba-4d53-9554-ed1a29cd8b26"
      },
      "source": [
        "train_images.shape"
      ],
      "execution_count": 3,
      "outputs": [
        {
          "output_type": "execute_result",
          "data": {
            "text/plain": [
              "(60000, 28, 28)"
            ]
          },
          "metadata": {
            "tags": []
          },
          "execution_count": 3
        }
      ]
    },
    {
      "cell_type": "code",
      "metadata": {
        "colab": {
          "base_uri": "https://localhost:8080/",
          "height": 265
        },
        "id": "tbQjiP6fauJQ",
        "outputId": "a81165d3-1bab-4379-a562-6272c2719701"
      },
      "source": [
        "IMG_INDEX = 9 \n",
        "\n",
        "plt.imshow(train_images[IMG_INDEX] ,cmap=plt.cm.binary)\n",
        "plt.show()"
      ],
      "execution_count": 4,
      "outputs": [
        {
          "output_type": "display_data",
          "data": {
            "image/png": "[encoded data removed]",
            "text/plain": [
              "<Figure size 432x288 with 1 Axes>"
            ]
          },
          "metadata": {
            "tags": [],
            "needs_background": "light"
          }
        }
      ]
    },
    {
      "cell_type": "markdown",
      "metadata": {
        "id": "DV45AhzULH5v"
      },
      "source": [
        "##Neural Network Architecture"
      ]
    },
    {
      "cell_type": "markdown",
      "metadata": {
        "id": "auvXZxjALVKB"
      },
      "source": [
        "A common architecture for a CNN is a stack of Conv2D and MaxPooling2D layers followed by a few denesly connected layers.\n",
        "A convolutional base is built at the start as shownn below.\n",
        "The MaxPooling2D layer will perform the max pooling operation using 2x2 samples and a stride of 2."
      ]
    },
    {
      "cell_type": "code",
      "metadata": {
        "id": "LgXVB_i6c7BI"
      },
      "source": [
        "model = models.Sequential()\n",
        "model.add(layers.Conv2D(28, (3, 3), activation='relu', input_shape=(28,28,1)))\n",
        "model.add(layers.MaxPooling2D((2, 2)))\n",
        "model.add(layers.Conv2D(56, (3, 3), activation='relu'))\n",
        "model.add(layers.MaxPooling2D((2, 2)))\n",
        "model.add(layers.Conv2D(56, (3, 3), activation='relu'))"
      ],
      "execution_count": 5,
      "outputs": []
    },
    {
      "cell_type": "code",
      "metadata": {
        "colab": {
          "base_uri": "https://localhost:8080/"
        },
        "id": "yg2oEFwqdrbQ",
        "outputId": "dae36a35-389b-4f8c-87ba-9925fe74a76e"
      },
      "source": [
        "model.summary()"
      ],
      "execution_count": 6,
      "outputs": [
        {
          "output_type": "stream",
          "text": [
            "Model: \"sequential\"\n",
            "_________________________________________________________________\n",
            "Layer (type)                 Output Shape              Param #   \n",
            "=================================================================\n",
            "conv2d (Conv2D)              (None, 26, 26, 28)        280       \n",
            "_________________________________________________________________\n",
            "max_pooling2d (MaxPooling2D) (None, 13, 13, 28)        0         \n",
            "_________________________________________________________________\n",
            "conv2d_1 (Conv2D)            (None, 11, 11, 56)        14168     \n",
            "_________________________________________________________________\n",
            "max_pooling2d_1 (MaxPooling2 (None, 5, 5, 56)          0         \n",
            "_________________________________________________________________\n",
            "conv2d_2 (Conv2D)            (None, 3, 3, 56)          28280     \n",
            "=================================================================\n",
            "Total params: 42,728\n",
            "Trainable params: 42,728\n",
            "Non-trainable params: 0\n",
            "_________________________________________________________________\n"
          ],
          "name": "stdout"
        }
      ]
    },
    {
      "cell_type": "markdown",
      "metadata": {
        "id": "ADZq2JjoKBux"
      },
      "source": [
        "The CNN is flattened and fed to the dense layers and the output layer shape is set to 10 as we need our output within the ten classes of digits. "
      ]
    },
    {
      "cell_type": "code",
      "metadata": {
        "id": "aCMkXX92d2cC"
      },
      "source": [
        "model.add(layers.Flatten())\n",
        "model.add(layers.Dense(56, activation='relu'))\n",
        "model.add(layers.Dense(10))"
      ],
      "execution_count": 7,
      "outputs": []
    },
    {
      "cell_type": "code",
      "metadata": {
        "colab": {
          "base_uri": "https://localhost:8080/"
        },
        "id": "FmjTgEBSd-yl",
        "outputId": "5921540b-a87f-4864-efe3-67380fe86f9a"
      },
      "source": [
        "model.summary()"
      ],
      "execution_count": 8,
      "outputs": [
        {
          "output_type": "stream",
          "text": [
            "Model: \"sequential\"\n",
            "_________________________________________________________________\n",
            "Layer (type)                 Output Shape              Param #   \n",
            "=================================================================\n",
            "conv2d (Conv2D)              (None, 26, 26, 28)        280       \n",
            "_________________________________________________________________\n",
            "max_pooling2d (MaxPooling2D) (None, 13, 13, 28)        0         \n",
            "_________________________________________________________________\n",
            "conv2d_1 (Conv2D)            (None, 11, 11, 56)        14168     \n",
            "_________________________________________________________________\n",
            "max_pooling2d_1 (MaxPooling2 (None, 5, 5, 56)          0         \n",
            "_________________________________________________________________\n",
            "conv2d_2 (Conv2D)            (None, 3, 3, 56)          28280     \n",
            "_________________________________________________________________\n",
            "flatten (Flatten)            (None, 504)               0         \n",
            "_________________________________________________________________\n",
            "dense (Dense)                (None, 56)                28280     \n",
            "_________________________________________________________________\n",
            "dense_1 (Dense)              (None, 10)                570       \n",
            "=================================================================\n",
            "Total params: 71,578\n",
            "Trainable params: 71,578\n",
            "Non-trainable params: 0\n",
            "_________________________________________________________________\n"
          ],
          "name": "stdout"
        }
      ]
    },
    {
      "cell_type": "markdown",
      "metadata": {
        "id": "qhZveGm3KYCt"
      },
      "source": [
        "The images are reshaped from (x,x) to (x,x,1) to make them 3D."
      ]
    },
    {
      "cell_type": "code",
      "metadata": {
        "id": "XSItE8qzeWAy"
      },
      "source": [
        "train_images1=train_images.reshape(60000,28,28,1)\n",
        "test_images1=test_images.reshape(10000,28,28,1)"
      ],
      "execution_count": 9,
      "outputs": []
    },
    {
      "cell_type": "code",
      "metadata": {
        "colab": {
          "base_uri": "https://localhost:8080/"
        },
        "id": "9VW6cuDpf4xF",
        "outputId": "0052a696-d145-472e-b9e2-9b786c1e6626"
      },
      "source": [
        "train_images1.shape"
      ],
      "execution_count": 10,
      "outputs": [
        {
          "output_type": "execute_result",
          "data": {
            "text/plain": [
              "(60000, 28, 28, 1)"
            ]
          },
          "metadata": {
            "tags": []
          },
          "execution_count": 10
        }
      ]
    },
    {
      "cell_type": "markdown",
      "metadata": {
        "id": "rOBBGkeSLC1K"
      },
      "source": [
        "##Training and Testing"
      ]
    },
    {
      "cell_type": "markdown",
      "metadata": {
        "id": "S_WKQ22kKog7"
      },
      "source": [
        "Adam Optimizer is used with Sparse Categorical Entropy as the loss and accuracy as the metric. Then the model is trained and tested with the respective images and labels."
      ]
    },
    {
      "cell_type": "markdown",
      "metadata": {
        "id": "vuWlrcntMbjk"
      },
      "source": [
        "Lower value of epochs are used to make the training faster. For better accuracy, a higher number can be used."
      ]
    },
    {
      "cell_type": "code",
      "metadata": {
        "colab": {
          "base_uri": "https://localhost:8080/"
        },
        "id": "orFsK4JxeD5e",
        "outputId": "a4d38699-cea3-4eca-d07a-e451b3a89524"
      },
      "source": [
        "model.compile(optimizer='adam',\n",
        "              loss=tf.keras.losses.SparseCategoricalCrossentropy(from_logits=True),\n",
        "              metrics=['accuracy'])\n",
        "\n",
        "history = model.fit(train_images1, train_labels, epochs=4, \n",
        "                    validation_data=(test_images1, test_labels))"
      ],
      "execution_count": 11,
      "outputs": [
        {
          "output_type": "stream",
          "text": [
            "Epoch 1/4\n",
            "1875/1875 [==============================] - 47s 25ms/step - loss: 0.1651 - accuracy: 0.9495 - val_loss: 0.0537 - val_accuracy: 0.9838\n",
            "Epoch 2/4\n",
            "1875/1875 [==============================] - 46s 25ms/step - loss: 0.0493 - accuracy: 0.9848 - val_loss: 0.0338 - val_accuracy: 0.9884\n",
            "Epoch 3/4\n",
            "1875/1875 [==============================] - 46s 25ms/step - loss: 0.0351 - accuracy: 0.9889 - val_loss: 0.0330 - val_accuracy: 0.9897\n",
            "Epoch 4/4\n",
            "1875/1875 [==============================] - 46s 24ms/step - loss: 0.0280 - accuracy: 0.9914 - val_loss: 0.0470 - val_accuracy: 0.9855\n"
          ],
          "name": "stdout"
        }
      ]
    },
    {
      "cell_type": "code",
      "metadata": {
        "colab": {
          "base_uri": "https://localhost:8080/"
        },
        "id": "rNskVFCKhLy0",
        "outputId": "81566d3d-9062-407c-fdb8-1938067027f3"
      },
      "source": [
        "test_loss, test_acc = model.evaluate(test_images1,  test_labels, verbose=2)\n",
        "print(test_acc)"
      ],
      "execution_count": 12,
      "outputs": [
        {
          "output_type": "stream",
          "text": [
            "313/313 - 2s - loss: 0.0470 - accuracy: 0.9855\n",
            "0.9854999780654907\n"
          ],
          "name": "stdout"
        }
      ]
    },
    {
      "cell_type": "markdown",
      "metadata": {
        "id": "Up1u7fQkMoue"
      },
      "source": [
        "We got an accuracy of 98% which is really good considering the accuracy we got without using keras in [my previous project](https://github.com/mowne67/Portfolio-Mowne/blob/main/Digit_Recognition_from_Handwritten_Text_with_Tensorflow_1_x.ipynb)"
      ]
    },
    {
      "cell_type": "code",
      "metadata": {
        "id": "lAtoc317hf1J"
      },
      "source": [
        "predictions=model.predict(test_images1)"
      ],
      "execution_count": 13,
      "outputs": []
    },
    {
      "cell_type": "code",
      "metadata": {
        "colab": {
          "base_uri": "https://localhost:8080/",
          "height": 317
        },
        "id": "vgQJjgGCiH7L",
        "outputId": "038bff78-1744-429c-a1af-b9968b7644cd"
      },
      "source": [
        "plt.imshow(test_images[57] ,cmap=plt.cm.binary)\n",
        "plt.show()\n",
        "predictions[57]"
      ],
      "execution_count": 14,
      "outputs": [
        {
          "output_type": "display_data",
          "data": {
            "image/png": "[encoded data removed]",
            "text/plain": [
              "<Figure size 432x288 with 1 Axes>"
            ]
          },
          "metadata": {
            "tags": [],
            "needs_background": "light"
          }
        },
        {
          "output_type": "execute_result",
          "data": {
            "text/plain": [
              "array([-5.3157434 ,  9.035201  , -0.973773  , -2.1544485 ,  0.5547784 ,\n",
              "       -0.77466035, -1.6821938 ,  0.14273965,  0.66031253, -0.7056283 ],\n",
              "      dtype=float32)"
            ]
          },
          "metadata": {
            "tags": []
          },
          "execution_count": 14
        }
      ]
    },
    {
      "cell_type": "code",
      "metadata": {
        "colab": {
          "base_uri": "https://localhost:8080/",
          "height": 300
        },
        "id": "6UaUSZWiiqzw",
        "outputId": "c158cf57-a316-4cd6-a969-2163b9c6fe05"
      },
      "source": [
        "n=678       #Enter a random value between (0-9999) to see the image and the predicted digit\n",
        "plt.imshow(test_images[n] ,cmap=plt.cm.binary)\n",
        "plt.show()\n",
        "digit=list(predictions[n]).index(max(predictions[n]))\n",
        "print(end=\"\\n\")\n",
        "print(\"THE PREDICTED DIGIT  -->    {} \".format(digit))"
      ],
      "execution_count": 15,
      "outputs": [
        {
          "output_type": "display_data",
          "data": {
            "image/png": "[encoded data removed]",
            "text/plain": [
              "<Figure size 432x288 with 1 Axes>"
            ]
          },
          "metadata": {
            "tags": [],
            "needs_background": "light"
          }
        },
        {
          "output_type": "stream",
          "text": [
            "\n",
            "THE PREDICTED DIGIT  -->    9 \n"
          ],
          "name": "stdout"
        }
      ]
    }
  ]
}