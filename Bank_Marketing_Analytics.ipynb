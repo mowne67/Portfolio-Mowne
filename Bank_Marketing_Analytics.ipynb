{
  "nbformat": 4,
  "nbformat_minor": 0,
  "metadata": {
    "colab": {
      "name": "Bank Marketing Analytics.ipynb",
      "provenance": [],
      "authorship_tag": "ABX9TyOPHXZSaXEiw17aZGX2xm73",
      "include_colab_link": true
    },
    "kernelspec": {
      "name": "python3",
      "display_name": "Python 3"
    },
    "language_info": {
      "name": "python"
    }
  },
  "cells": [
    {
      "cell_type": "markdown",
      "metadata": {
        "id": "view-in-github",
        "colab_type": "text"
      },
      "source": [
        "<a href=\"https://colab.research.google.com/github/mowne67/Portfolio-Mowne/blob/main/Bank_Marketing_Analytics.ipynb\" target=\"_parent\"><img src=\"https://colab.research.google.com/assets/colab-badge.svg\" alt=\"Open In Colab\"/></a>"
      ]
    },
    {
      "cell_type": "markdown",
      "metadata": {
        "id": "zj38till5Qw9"
      },
      "source": [
        "## Term Deposit Marketing Classification\n",
        "## Overview:\n",
        "The data is related to direct marketing campaigns (phone calls) of a Portuguese banking\n",
        "institution. The classification goal is to predict if the client will subscribe to a term\n",
        "deposit.\n",
        "\n",
        "Exploratory Data Analysis with Correlation Matrix is performed.\n",
        "\n",
        "Multiple Machine Learning Models are being deployed and their acuuracies and recall scores are being compared.\n"
      ]
    },
    {
      "cell_type": "code",
      "metadata": {
        "colab": {
          "base_uri": "https://localhost:8080/"
        },
        "id": "azDpK2e66PZc",
        "outputId": "a869b7f7-3257-4f4b-8585-19a70f9db124"
      },
      "source": [
        "!pip install dython"
      ],
      "execution_count": 4,
      "outputs": [
        {
          "output_type": "stream",
          "text": [
            "Requirement already satisfied: dython in /usr/local/lib/python3.7/dist-packages (0.6.7)\n",
            "Requirement already satisfied: scikit-learn in /usr/local/lib/python3.7/dist-packages (from dython) (0.22.2.post1)\n",
            "Requirement already satisfied: matplotlib in /usr/local/lib/python3.7/dist-packages (from dython) (3.2.2)\n",
            "Requirement already satisfied: numpy in /usr/local/lib/python3.7/dist-packages (from dython) (1.19.5)\n",
            "Requirement already satisfied: scipy in /usr/local/lib/python3.7/dist-packages (from dython) (1.4.1)\n",
            "Requirement already satisfied: scikit-plot>=0.3.7 in /usr/local/lib/python3.7/dist-packages (from dython) (0.3.7)\n",
            "Requirement already satisfied: pandas>=0.23.4 in /usr/local/lib/python3.7/dist-packages (from dython) (1.1.5)\n",
            "Requirement already satisfied: seaborn in /usr/local/lib/python3.7/dist-packages (from dython) (0.11.1)\n",
            "Requirement already satisfied: python-dateutil>=2.7.3 in /usr/local/lib/python3.7/dist-packages (from pandas>=0.23.4->dython) (2.8.1)\n",
            "Requirement already satisfied: pytz>=2017.2 in /usr/local/lib/python3.7/dist-packages (from pandas>=0.23.4->dython) (2018.9)\n",
            "Requirement already satisfied: six>=1.5 in /usr/local/lib/python3.7/dist-packages (from python-dateutil>=2.7.3->pandas>=0.23.4->dython) (1.15.0)\n",
            "Requirement already satisfied: joblib>=0.10 in /usr/local/lib/python3.7/dist-packages (from scikit-plot>=0.3.7->dython) (1.0.1)\n",
            "Requirement already satisfied: kiwisolver>=1.0.1 in /usr/local/lib/python3.7/dist-packages (from matplotlib->dython) (1.3.1)\n",
            "Requirement already satisfied: pyparsing!=2.0.4,!=2.1.2,!=2.1.6,>=2.0.1 in /usr/local/lib/python3.7/dist-packages (from matplotlib->dython) (2.4.7)\n",
            "Requirement already satisfied: cycler>=0.10 in /usr/local/lib/python3.7/dist-packages (from matplotlib->dython) (0.10.0)\n"
          ],
          "name": "stdout"
        }
      ]
    },
    {
      "cell_type": "code",
      "metadata": {
        "id": "kL5Qx4ueKZCm"
      },
      "source": [
        "import numpy as np\n",
        "import pandas as pd\n",
        "import matplotlib.pyplot as plt\n",
        "import seaborn as sns\n",
        "from dython.nominal import associations\n",
        "from sklearn.model_selection import train_test_split\n",
        "from sklearn.metrics import confusion_matrix\n",
        "from sklearn.metrics import recall_score\n",
        "from imblearn.over_sampling import SMOTE"
      ],
      "execution_count": 5,
      "outputs": []
    },
    {
      "cell_type": "markdown",
      "metadata": {
        "id": "DkTnvCsS6ThS"
      },
      "source": [
        "## Dataset:\n",
        "\n",
        "Link: https://archive.ics.uci.edu/ml/machine-learning-databases/00222/\n",
        "\n",
        "This dataset contains 4 files.:\n",
        "\n",
        "1) bank-additional-full.csv with all examples (41188) and 20 inputs, ordered by date\n",
        "(from May 2008 to November 2010)\n",
        "\n",
        "2) bank-additional.csv with 10% of the examples (4119), randomly selected from 1), and\n",
        "20 inputs.\n",
        "\n",
        "3) bank-full.csv with all examples and 17 inputs, ordered by date (older version of this\n",
        "dataset with fewer inputs).\n",
        "\n",
        "4) bank.csv with 10% of the examples and 17 inputs, randomly selected from 3 (older\n",
        "version of this dataset with fewer inputs)."
      ]
    },
    {
      "cell_type": "markdown",
      "metadata": {
        "id": "Nnl78VyA6mWm"
      },
      "source": [
        "We are using the first dataset with 20 inputs."
      ]
    },
    {
      "cell_type": "code",
      "metadata": {
        "id": "A2ovskJ_guuD"
      },
      "source": [
        "df = pd.read_csv('bank-additional-full.csv', delimiter = ';')"
      ],
      "execution_count": 6,
      "outputs": []
    },
    {
      "cell_type": "code",
      "metadata": {
        "colab": {
          "base_uri": "https://localhost:8080/",
          "height": 226
        },
        "id": "y4IUlCpXg47C",
        "outputId": "9e802f4e-5183-4ee8-b6f3-75e4b46aa640"
      },
      "source": [
        "df.head()"
      ],
      "execution_count": 7,
      "outputs": [
        {
          "output_type": "execute_result",
          "data": {
            "text/html": [
              "<div>\n",
              "<style scoped>\n",
              "    .dataframe tbody tr th:only-of-type {\n",
              "        vertical-align: middle;\n",
              "    }\n",
              "\n",
              "    .dataframe tbody tr th {\n",
              "        vertical-align: top;\n",
              "    }\n",
              "\n",
              "    .dataframe thead th {\n",
              "        text-align: right;\n",
              "    }\n",
              "</style>\n",
              "<table border=\"1\" class=\"dataframe\">\n",
              "  <thead>\n",
              "    <tr style=\"text-align: right;\">\n",
              "      <th></th>\n",
              "      <th>age</th>\n",
              "      <th>job</th>\n",
              "      <th>marital</th>\n",
              "      <th>education</th>\n",
              "      <th>default</th>\n",
              "      <th>housing</th>\n",
              "      <th>loan</th>\n",
              "      <th>contact</th>\n",
              "      <th>month</th>\n",
              "      <th>day_of_week</th>\n",
              "      <th>duration</th>\n",
              "      <th>campaign</th>\n",
              "      <th>pdays</th>\n",
              "      <th>previous</th>\n",
              "      <th>poutcome</th>\n",
              "      <th>emp.var.rate</th>\n",
              "      <th>cons.price.idx</th>\n",
              "      <th>cons.conf.idx</th>\n",
              "      <th>euribor3m</th>\n",
              "      <th>nr.employed</th>\n",
              "      <th>y</th>\n",
              "    </tr>\n",
              "  </thead>\n",
              "  <tbody>\n",
              "    <tr>\n",
              "      <th>0</th>\n",
              "      <td>56</td>\n",
              "      <td>housemaid</td>\n",
              "      <td>married</td>\n",
              "      <td>basic.4y</td>\n",
              "      <td>no</td>\n",
              "      <td>no</td>\n",
              "      <td>no</td>\n",
              "      <td>telephone</td>\n",
              "      <td>may</td>\n",
              "      <td>mon</td>\n",
              "      <td>261</td>\n",
              "      <td>1</td>\n",
              "      <td>999</td>\n",
              "      <td>0</td>\n",
              "      <td>nonexistent</td>\n",
              "      <td>1.1</td>\n",
              "      <td>93.994</td>\n",
              "      <td>-36.4</td>\n",
              "      <td>4.857</td>\n",
              "      <td>5191.0</td>\n",
              "      <td>no</td>\n",
              "    </tr>\n",
              "    <tr>\n",
              "      <th>1</th>\n",
              "      <td>57</td>\n",
              "      <td>services</td>\n",
              "      <td>married</td>\n",
              "      <td>high.school</td>\n",
              "      <td>unknown</td>\n",
              "      <td>no</td>\n",
              "      <td>no</td>\n",
              "      <td>telephone</td>\n",
              "      <td>may</td>\n",
              "      <td>mon</td>\n",
              "      <td>149</td>\n",
              "      <td>1</td>\n",
              "      <td>999</td>\n",
              "      <td>0</td>\n",
              "      <td>nonexistent</td>\n",
              "      <td>1.1</td>\n",
              "      <td>93.994</td>\n",
              "      <td>-36.4</td>\n",
              "      <td>4.857</td>\n",
              "      <td>5191.0</td>\n",
              "      <td>no</td>\n",
              "    </tr>\n",
              "    <tr>\n",
              "      <th>2</th>\n",
              "      <td>37</td>\n",
              "      <td>services</td>\n",
              "      <td>married</td>\n",
              "      <td>high.school</td>\n",
              "      <td>no</td>\n",
              "      <td>yes</td>\n",
              "      <td>no</td>\n",
              "      <td>telephone</td>\n",
              "      <td>may</td>\n",
              "      <td>mon</td>\n",
              "      <td>226</td>\n",
              "      <td>1</td>\n",
              "      <td>999</td>\n",
              "      <td>0</td>\n",
              "      <td>nonexistent</td>\n",
              "      <td>1.1</td>\n",
              "      <td>93.994</td>\n",
              "      <td>-36.4</td>\n",
              "      <td>4.857</td>\n",
              "      <td>5191.0</td>\n",
              "      <td>no</td>\n",
              "    </tr>\n",
              "    <tr>\n",
              "      <th>3</th>\n",
              "      <td>40</td>\n",
              "      <td>admin.</td>\n",
              "      <td>married</td>\n",
              "      <td>basic.6y</td>\n",
              "      <td>no</td>\n",
              "      <td>no</td>\n",
              "      <td>no</td>\n",
              "      <td>telephone</td>\n",
              "      <td>may</td>\n",
              "      <td>mon</td>\n",
              "      <td>151</td>\n",
              "      <td>1</td>\n",
              "      <td>999</td>\n",
              "      <td>0</td>\n",
              "      <td>nonexistent</td>\n",
              "      <td>1.1</td>\n",
              "      <td>93.994</td>\n",
              "      <td>-36.4</td>\n",
              "      <td>4.857</td>\n",
              "      <td>5191.0</td>\n",
              "      <td>no</td>\n",
              "    </tr>\n",
              "    <tr>\n",
              "      <th>4</th>\n",
              "      <td>56</td>\n",
              "      <td>services</td>\n",
              "      <td>married</td>\n",
              "      <td>high.school</td>\n",
              "      <td>no</td>\n",
              "      <td>no</td>\n",
              "      <td>yes</td>\n",
              "      <td>telephone</td>\n",
              "      <td>may</td>\n",
              "      <td>mon</td>\n",
              "      <td>307</td>\n",
              "      <td>1</td>\n",
              "      <td>999</td>\n",
              "      <td>0</td>\n",
              "      <td>nonexistent</td>\n",
              "      <td>1.1</td>\n",
              "      <td>93.994</td>\n",
              "      <td>-36.4</td>\n",
              "      <td>4.857</td>\n",
              "      <td>5191.0</td>\n",
              "      <td>no</td>\n",
              "    </tr>\n",
              "  </tbody>\n",
              "</table>\n",
              "</div>"
            ],
            "text/plain": [
              "   age        job  marital  ... euribor3m nr.employed   y\n",
              "0   56  housemaid  married  ...     4.857      5191.0  no\n",
              "1   57   services  married  ...     4.857      5191.0  no\n",
              "2   37   services  married  ...     4.857      5191.0  no\n",
              "3   40     admin.  married  ...     4.857      5191.0  no\n",
              "4   56   services  married  ...     4.857      5191.0  no\n",
              "\n",
              "[5 rows x 21 columns]"
            ]
          },
          "metadata": {
            "tags": []
          },
          "execution_count": 7
        }
      ]
    },
    {
      "cell_type": "code",
      "metadata": {
        "colab": {
          "base_uri": "https://localhost:8080/"
        },
        "id": "Hqb5pLA1hymF",
        "outputId": "8a1f5281-4e03-4a1b-cf07-2777b5d523e8"
      },
      "source": [
        "df.shape"
      ],
      "execution_count": 8,
      "outputs": [
        {
          "output_type": "execute_result",
          "data": {
            "text/plain": [
              "(41188, 21)"
            ]
          },
          "metadata": {
            "tags": []
          },
          "execution_count": 8
        }
      ]
    },
    {
      "cell_type": "code",
      "metadata": {
        "colab": {
          "base_uri": "https://localhost:8080/"
        },
        "id": "C_RrzydMDHz4",
        "outputId": "78244f76-5300-4c59-e360-fc1481fc9ef9"
      },
      "source": [
        "df.info()"
      ],
      "execution_count": 9,
      "outputs": [
        {
          "output_type": "stream",
          "text": [
            "<class 'pandas.core.frame.DataFrame'>\n",
            "RangeIndex: 41188 entries, 0 to 41187\n",
            "Data columns (total 21 columns):\n",
            " #   Column          Non-Null Count  Dtype  \n",
            "---  ------          --------------  -----  \n",
            " 0   age             41188 non-null  int64  \n",
            " 1   job             41188 non-null  object \n",
            " 2   marital         41188 non-null  object \n",
            " 3   education       41188 non-null  object \n",
            " 4   default         41188 non-null  object \n",
            " 5   housing         41188 non-null  object \n",
            " 6   loan            41188 non-null  object \n",
            " 7   contact         41188 non-null  object \n",
            " 8   month           41188 non-null  object \n",
            " 9   day_of_week     41188 non-null  object \n",
            " 10  duration        41188 non-null  int64  \n",
            " 11  campaign        41188 non-null  int64  \n",
            " 12  pdays           41188 non-null  int64  \n",
            " 13  previous        41188 non-null  int64  \n",
            " 14  poutcome        41188 non-null  object \n",
            " 15  emp.var.rate    41188 non-null  float64\n",
            " 16  cons.price.idx  41188 non-null  float64\n",
            " 17  cons.conf.idx   41188 non-null  float64\n",
            " 18  euribor3m       41188 non-null  float64\n",
            " 19  nr.employed     41188 non-null  float64\n",
            " 20  y               41188 non-null  object \n",
            "dtypes: float64(5), int64(5), object(11)\n",
            "memory usage: 6.6+ MB\n"
          ],
          "name": "stdout"
        }
      ]
    },
    {
      "cell_type": "markdown",
      "metadata": {
        "id": "UI2dWm4x7Ser"
      },
      "source": [
        "From the output below, it is very obvious that there is a class imbalance in this dataset."
      ]
    },
    {
      "cell_type": "code",
      "metadata": {
        "colab": {
          "base_uri": "https://localhost:8080/",
          "height": 335
        },
        "id": "37DKPPU1Eqvz",
        "outputId": "35d966ed-f254-432d-c4bb-d07e4a28f650"
      },
      "source": [
        "plt.hist(df.y)"
      ],
      "execution_count": 10,
      "outputs": [
        {
          "output_type": "execute_result",
          "data": {
            "text/plain": [
              "(array([36548.,     0.,     0.,     0.,     0.,     0.,     0.,     0.,\n",
              "            0.,  4640.]),\n",
              " array([0. , 0.1, 0.2, 0.3, 0.4, 0.5, 0.6, 0.7, 0.8, 0.9, 1. ]),\n",
              " <a list of 10 Patch objects>)"
            ]
          },
          "metadata": {
            "tags": []
          },
          "execution_count": 10
        },
        {
          "output_type": "display_data",
          "data": {
            "image/png": "[encoded data removed]",
            "text/plain": [
              "<Figure size 432x288 with 1 Axes>"
            ]
          },
          "metadata": {
            "tags": [],
            "needs_background": "light"
          }
        }
      ]
    },
    {
      "cell_type": "code",
      "metadata": {
        "colab": {
          "base_uri": "https://localhost:8080/"
        },
        "id": "VJAKrKjBhVAt",
        "outputId": "47489fab-418d-47f9-e1e5-acc61bfd0615"
      },
      "source": [
        "len(df)"
      ],
      "execution_count": 11,
      "outputs": [
        {
          "output_type": "execute_result",
          "data": {
            "text/plain": [
              "41188"
            ]
          },
          "metadata": {
            "tags": []
          },
          "execution_count": 11
        }
      ]
    },
    {
      "cell_type": "markdown",
      "metadata": {
        "id": "b9pdBNLWkr9Y"
      },
      "source": [
        "We change the target variable into integer values 0 and 1 for easier classification"
      ]
    },
    {
      "cell_type": "code",
      "metadata": {
        "id": "BQ3fp_X5gKxY"
      },
      "source": [
        "a,b=[],[]\n",
        "for i in range(len(df)):\n",
        "  if df.y[i]=='yes':\n",
        "    a.append(df.duration[i])\n",
        "  if df.y[i]=='no':\n",
        "    b.append(df.duration[i])"
      ],
      "execution_count": 12,
      "outputs": []
    },
    {
      "cell_type": "markdown",
      "metadata": {
        "id": "HMKHIZOpruzU"
      },
      "source": [
        "There is a strong correlation between Duration of the call and the target variable."
      ]
    },
    {
      "cell_type": "code",
      "metadata": {
        "colab": {
          "base_uri": "https://localhost:8080/"
        },
        "id": "PP1Y4rs3hx67",
        "outputId": "9e06967b-79c2-4186-d0c9-d28041b129c8"
      },
      "source": [
        "print(np.mean(a), np.mean(b))"
      ],
      "execution_count": 13,
      "outputs": [
        {
          "output_type": "stream",
          "text": [
            "553.1911637931034 220.84480682937507\n"
          ],
          "name": "stdout"
        }
      ]
    },
    {
      "cell_type": "code",
      "metadata": {
        "colab": {
          "base_uri": "https://localhost:8080/",
          "height": 297
        },
        "id": "IzDO3uMRHQ50",
        "outputId": "676087ba-6c3a-4720-8eb0-0e63117e0f03"
      },
      "source": [
        "sns.countplot(x='y', hue='job', data=df)"
      ],
      "execution_count": 14,
      "outputs": [
        {
          "output_type": "execute_result",
          "data": {
            "text/plain": [
              "<matplotlib.axes._subplots.AxesSubplot at 0x7f21040ae150>"
            ]
          },
          "metadata": {
            "tags": []
          },
          "execution_count": 14
        },
        {
          "output_type": "display_data",
          "data": {
            "image/png": "[encoded data removed]",
            "text/plain": [
              "<Figure size 432x288 with 1 Axes>"
            ]
          },
          "metadata": {
            "tags": [],
            "needs_background": "light"
          }
        }
      ]
    },
    {
      "cell_type": "code",
      "metadata": {
        "id": "lxV-HRy7D0hj"
      },
      "source": [
        "df1=df.copy()"
      ],
      "execution_count": 15,
      "outputs": []
    },
    {
      "cell_type": "code",
      "metadata": {
        "colab": {
          "base_uri": "https://localhost:8080/"
        },
        "id": "ZM6WiPB7kyhg",
        "outputId": "0fb01c20-5f46-4edb-8893-d1e3a33b4553"
      },
      "source": [
        "for i in range(len(df)):\n",
        "  if df.y[i]=='yes':\n",
        "    df1.y[i]=1\n",
        "  else:\n",
        "    df1.y[i]=0"
      ],
      "execution_count": 16,
      "outputs": [
        {
          "output_type": "stream",
          "text": [
            "/usr/local/lib/python3.7/dist-packages/ipykernel_launcher.py:5: SettingWithCopyWarning: \n",
            "A value is trying to be set on a copy of a slice from a DataFrame\n",
            "\n",
            "See the caveats in the documentation: https://pandas.pydata.org/pandas-docs/stable/user_guide/indexing.html#returning-a-view-versus-a-copy\n",
            "  \"\"\"\n",
            "/usr/local/lib/python3.7/dist-packages/ipykernel_launcher.py:3: SettingWithCopyWarning: \n",
            "A value is trying to be set on a copy of a slice from a DataFrame\n",
            "\n",
            "See the caveats in the documentation: https://pandas.pydata.org/pandas-docs/stable/user_guide/indexing.html#returning-a-view-versus-a-copy\n",
            "  This is separate from the ipykernel package so we can avoid doing imports until\n"
          ],
          "name": "stderr"
        }
      ]
    },
    {
      "cell_type": "code",
      "metadata": {
        "id": "aGHSu7x3l-Jd"
      },
      "source": [
        "df1.y = pd.to_numeric(df1.y)"
      ],
      "execution_count": 17,
      "outputs": []
    },
    {
      "cell_type": "code",
      "metadata": {
        "colab": {
          "base_uri": "https://localhost:8080/"
        },
        "id": "Uj1E_SkImxEn",
        "outputId": "85fe013b-187a-4729-c88d-270c3c96fa98"
      },
      "source": [
        "df1.info()"
      ],
      "execution_count": 18,
      "outputs": [
        {
          "output_type": "stream",
          "text": [
            "<class 'pandas.core.frame.DataFrame'>\n",
            "RangeIndex: 41188 entries, 0 to 41187\n",
            "Data columns (total 21 columns):\n",
            " #   Column          Non-Null Count  Dtype  \n",
            "---  ------          --------------  -----  \n",
            " 0   age             41188 non-null  int64  \n",
            " 1   job             41188 non-null  object \n",
            " 2   marital         41188 non-null  object \n",
            " 3   education       41188 non-null  object \n",
            " 4   default         41188 non-null  object \n",
            " 5   housing         41188 non-null  object \n",
            " 6   loan            41188 non-null  object \n",
            " 7   contact         41188 non-null  object \n",
            " 8   month           41188 non-null  object \n",
            " 9   day_of_week     41188 non-null  object \n",
            " 10  duration        41188 non-null  int64  \n",
            " 11  campaign        41188 non-null  int64  \n",
            " 12  pdays           41188 non-null  int64  \n",
            " 13  previous        41188 non-null  int64  \n",
            " 14  poutcome        41188 non-null  object \n",
            " 15  emp.var.rate    41188 non-null  float64\n",
            " 16  cons.price.idx  41188 non-null  float64\n",
            " 17  cons.conf.idx   41188 non-null  float64\n",
            " 18  euribor3m       41188 non-null  float64\n",
            " 19  nr.employed     41188 non-null  float64\n",
            " 20  y               41188 non-null  int64  \n",
            "dtypes: float64(5), int64(6), object(10)\n",
            "memory usage: 6.6+ MB\n"
          ],
          "name": "stdout"
        }
      ]
    },
    {
      "cell_type": "markdown",
      "metadata": {
        "id": "o8xC9kzznNti"
      },
      "source": [
        "## Correlation Matrix, Heat Map:"
      ]
    },
    {
      "cell_type": "markdown",
      "metadata": {
        "id": "eCRB7333_uJw"
      },
      "source": [
        "The usual correlation mmatrix does not include the categorical/object variables. \n",
        "\n",
        "The python library 'Dython' has the tool that is needed, a correlation matrix which includes objects with using one hot encoding internally within the library."
      ]
    },
    {
      "cell_type": "code",
      "metadata": {
        "colab": {
          "base_uri": "https://localhost:8080/",
          "height": 856
        },
        "id": "1Vp2o_0fxR_b",
        "outputId": "bbf1bc63-8b5a-40fe-883d-eea4755ae0c0"
      },
      "source": [
        "cat_corr=associations(df1,figsize=(15,15))"
      ],
      "execution_count": 19,
      "outputs": [
        {
          "output_type": "display_data",
          "data": {
            "image/png": "[encoded data removed]",
            "text/plain": [
              "<Figure size 1080x1080 with 2 Axes>"
            ]
          },
          "metadata": {
            "tags": [],
            "needs_background": "light"
          }
        }
      ]
    },
    {
      "cell_type": "code",
      "metadata": {
        "colab": {
          "base_uri": "https://localhost:8080/",
          "height": 727
        },
        "id": "z6qPNe7By12H",
        "outputId": "0a7251b4-0f3f-4e8b-a791-5bb153c51529"
      },
      "source": [
        "cat_corr['corr']"
      ],
      "execution_count": 20,
      "outputs": [
        {
          "output_type": "execute_result",
          "data": {
            "text/html": [
              "<div>\n",
              "<style scoped>\n",
              "    .dataframe tbody tr th:only-of-type {\n",
              "        vertical-align: middle;\n",
              "    }\n",
              "\n",
              "    .dataframe tbody tr th {\n",
              "        vertical-align: top;\n",
              "    }\n",
              "\n",
              "    .dataframe thead th {\n",
              "        text-align: right;\n",
              "    }\n",
              "</style>\n",
              "<table border=\"1\" class=\"dataframe\">\n",
              "  <thead>\n",
              "    <tr style=\"text-align: right;\">\n",
              "      <th></th>\n",
              "      <th>age</th>\n",
              "      <th>job</th>\n",
              "      <th>marital</th>\n",
              "      <th>education</th>\n",
              "      <th>default</th>\n",
              "      <th>housing</th>\n",
              "      <th>loan</th>\n",
              "      <th>contact</th>\n",
              "      <th>month</th>\n",
              "      <th>day_of_week</th>\n",
              "      <th>duration</th>\n",
              "      <th>campaign</th>\n",
              "      <th>pdays</th>\n",
              "      <th>previous</th>\n",
              "      <th>poutcome</th>\n",
              "      <th>emp.var.rate</th>\n",
              "      <th>cons.price.idx</th>\n",
              "      <th>cons.conf.idx</th>\n",
              "      <th>euribor3m</th>\n",
              "      <th>nr.employed</th>\n",
              "      <th>y</th>\n",
              "    </tr>\n",
              "  </thead>\n",
              "  <tbody>\n",
              "    <tr>\n",
              "      <th>age</th>\n",
              "      <td>1.000000</td>\n",
              "      <td>0.504788</td>\n",
              "      <td>0.418870</td>\n",
              "      <td>0.268502</td>\n",
              "      <td>0.165022</td>\n",
              "      <td>0.001951</td>\n",
              "      <td>0.007368</td>\n",
              "      <td>0.007021</td>\n",
              "      <td>0.126287</td>\n",
              "      <td>0.037857</td>\n",
              "      <td>-0.000866</td>\n",
              "      <td>0.004594</td>\n",
              "      <td>-0.034369</td>\n",
              "      <td>0.024365</td>\n",
              "      <td>0.035627</td>\n",
              "      <td>-0.000371</td>\n",
              "      <td>0.000857</td>\n",
              "      <td>0.129372</td>\n",
              "      <td>0.010767</td>\n",
              "      <td>-0.017725</td>\n",
              "      <td>0.030399</td>\n",
              "    </tr>\n",
              "    <tr>\n",
              "      <th>job</th>\n",
              "      <td>0.504788</td>\n",
              "      <td>1.000000</td>\n",
              "      <td>0.183590</td>\n",
              "      <td>0.359526</td>\n",
              "      <td>0.152101</td>\n",
              "      <td>0.010630</td>\n",
              "      <td>0.010218</td>\n",
              "      <td>0.127856</td>\n",
              "      <td>0.109835</td>\n",
              "      <td>0.016458</td>\n",
              "      <td>0.028731</td>\n",
              "      <td>0.029969</td>\n",
              "      <td>0.141169</td>\n",
              "      <td>0.135284</td>\n",
              "      <td>0.099560</td>\n",
              "      <td>0.193545</td>\n",
              "      <td>0.123262</td>\n",
              "      <td>0.158268</td>\n",
              "      <td>0.194952</td>\n",
              "      <td>0.225935</td>\n",
              "      <td>0.152768</td>\n",
              "    </tr>\n",
              "    <tr>\n",
              "      <th>marital</th>\n",
              "      <td>0.418870</td>\n",
              "      <td>0.183590</td>\n",
              "      <td>1.000000</td>\n",
              "      <td>0.116240</td>\n",
              "      <td>0.095434</td>\n",
              "      <td>0.009170</td>\n",
              "      <td>0.000000</td>\n",
              "      <td>0.071993</td>\n",
              "      <td>0.050174</td>\n",
              "      <td>0.010888</td>\n",
              "      <td>0.013022</td>\n",
              "      <td>0.013109</td>\n",
              "      <td>0.042680</td>\n",
              "      <td>0.050257</td>\n",
              "      <td>0.036630</td>\n",
              "      <td>0.100112</td>\n",
              "      <td>0.063942</td>\n",
              "      <td>0.063387</td>\n",
              "      <td>0.110147</td>\n",
              "      <td>0.102835</td>\n",
              "      <td>0.054570</td>\n",
              "    </tr>\n",
              "    <tr>\n",
              "      <th>education</th>\n",
              "      <td>0.268502</td>\n",
              "      <td>0.359526</td>\n",
              "      <td>0.116240</td>\n",
              "      <td>1.000000</td>\n",
              "      <td>0.170355</td>\n",
              "      <td>0.013316</td>\n",
              "      <td>0.000000</td>\n",
              "      <td>0.123302</td>\n",
              "      <td>0.094718</td>\n",
              "      <td>0.019725</td>\n",
              "      <td>0.018073</td>\n",
              "      <td>0.007395</td>\n",
              "      <td>0.056312</td>\n",
              "      <td>0.049723</td>\n",
              "      <td>0.042282</td>\n",
              "      <td>0.060942</td>\n",
              "      <td>0.104704</td>\n",
              "      <td>0.116262</td>\n",
              "      <td>0.053005</td>\n",
              "      <td>0.057341</td>\n",
              "      <td>0.068472</td>\n",
              "    </tr>\n",
              "    <tr>\n",
              "      <th>default</th>\n",
              "      <td>0.165022</td>\n",
              "      <td>0.152101</td>\n",
              "      <td>0.095434</td>\n",
              "      <td>0.170355</td>\n",
              "      <td>1.000000</td>\n",
              "      <td>0.010573</td>\n",
              "      <td>0.001567</td>\n",
              "      <td>0.135554</td>\n",
              "      <td>0.111926</td>\n",
              "      <td>0.011314</td>\n",
              "      <td>0.012682</td>\n",
              "      <td>0.033209</td>\n",
              "      <td>0.080073</td>\n",
              "      <td>0.102630</td>\n",
              "      <td>0.076628</td>\n",
              "      <td>0.203288</td>\n",
              "      <td>0.168339</td>\n",
              "      <td>0.026752</td>\n",
              "      <td>0.195347</td>\n",
              "      <td>0.189849</td>\n",
              "      <td>0.099354</td>\n",
              "    </tr>\n",
              "    <tr>\n",
              "      <th>housing</th>\n",
              "      <td>0.001951</td>\n",
              "      <td>0.010630</td>\n",
              "      <td>0.009170</td>\n",
              "      <td>0.013316</td>\n",
              "      <td>0.010573</td>\n",
              "      <td>1.000000</td>\n",
              "      <td>0.707852</td>\n",
              "      <td>0.084603</td>\n",
              "      <td>0.054243</td>\n",
              "      <td>0.014635</td>\n",
              "      <td>0.009138</td>\n",
              "      <td>0.011022</td>\n",
              "      <td>0.010723</td>\n",
              "      <td>0.021688</td>\n",
              "      <td>0.016958</td>\n",
              "      <td>0.060247</td>\n",
              "      <td>0.081972</td>\n",
              "      <td>0.034532</td>\n",
              "      <td>0.059318</td>\n",
              "      <td>0.045896</td>\n",
              "      <td>0.011748</td>\n",
              "    </tr>\n",
              "    <tr>\n",
              "      <th>loan</th>\n",
              "      <td>0.007368</td>\n",
              "      <td>0.010218</td>\n",
              "      <td>0.000000</td>\n",
              "      <td>0.000000</td>\n",
              "      <td>0.001567</td>\n",
              "      <td>0.707852</td>\n",
              "      <td>1.000000</td>\n",
              "      <td>0.024206</td>\n",
              "      <td>0.019830</td>\n",
              "      <td>0.006104</td>\n",
              "      <td>0.004901</td>\n",
              "      <td>0.005295</td>\n",
              "      <td>0.002034</td>\n",
              "      <td>0.004220</td>\n",
              "      <td>0.000000</td>\n",
              "      <td>0.003451</td>\n",
              "      <td>0.017070</td>\n",
              "      <td>0.015072</td>\n",
              "      <td>0.002889</td>\n",
              "      <td>0.004318</td>\n",
              "      <td>0.005154</td>\n",
              "    </tr>\n",
              "    <tr>\n",
              "      <th>contact</th>\n",
              "      <td>0.007021</td>\n",
              "      <td>0.127856</td>\n",
              "      <td>0.071993</td>\n",
              "      <td>0.123302</td>\n",
              "      <td>0.135554</td>\n",
              "      <td>0.084603</td>\n",
              "      <td>0.024206</td>\n",
              "      <td>1.000000</td>\n",
              "      <td>0.609087</td>\n",
              "      <td>0.054906</td>\n",
              "      <td>0.026657</td>\n",
              "      <td>0.077368</td>\n",
              "      <td>0.117970</td>\n",
              "      <td>0.212848</td>\n",
              "      <td>0.242419</td>\n",
              "      <td>0.393584</td>\n",
              "      <td>0.591474</td>\n",
              "      <td>0.251614</td>\n",
              "      <td>0.399773</td>\n",
              "      <td>0.269155</td>\n",
              "      <td>0.144773</td>\n",
              "    </tr>\n",
              "    <tr>\n",
              "      <th>month</th>\n",
              "      <td>0.126287</td>\n",
              "      <td>0.109835</td>\n",
              "      <td>0.050174</td>\n",
              "      <td>0.094718</td>\n",
              "      <td>0.111926</td>\n",
              "      <td>0.054243</td>\n",
              "      <td>0.019830</td>\n",
              "      <td>0.609087</td>\n",
              "      <td>1.000000</td>\n",
              "      <td>0.066569</td>\n",
              "      <td>0.071253</td>\n",
              "      <td>0.160763</td>\n",
              "      <td>0.240266</td>\n",
              "      <td>0.280649</td>\n",
              "      <td>0.242400</td>\n",
              "      <td>0.588172</td>\n",
              "      <td>0.608363</td>\n",
              "      <td>0.612346</td>\n",
              "      <td>0.578118</td>\n",
              "      <td>0.648327</td>\n",
              "      <td>0.274395</td>\n",
              "    </tr>\n",
              "    <tr>\n",
              "      <th>day_of_week</th>\n",
              "      <td>0.037857</td>\n",
              "      <td>0.016458</td>\n",
              "      <td>0.010888</td>\n",
              "      <td>0.019725</td>\n",
              "      <td>0.011314</td>\n",
              "      <td>0.014635</td>\n",
              "      <td>0.006104</td>\n",
              "      <td>0.054906</td>\n",
              "      <td>0.066569</td>\n",
              "      <td>1.000000</td>\n",
              "      <td>0.029363</td>\n",
              "      <td>0.040305</td>\n",
              "      <td>0.015854</td>\n",
              "      <td>0.005755</td>\n",
              "      <td>0.014579</td>\n",
              "      <td>0.035267</td>\n",
              "      <td>0.019109</td>\n",
              "      <td>0.066660</td>\n",
              "      <td>0.043796</td>\n",
              "      <td>0.029925</td>\n",
              "      <td>0.025195</td>\n",
              "    </tr>\n",
              "    <tr>\n",
              "      <th>duration</th>\n",
              "      <td>-0.000866</td>\n",
              "      <td>0.028731</td>\n",
              "      <td>0.013022</td>\n",
              "      <td>0.018073</td>\n",
              "      <td>0.012682</td>\n",
              "      <td>0.009138</td>\n",
              "      <td>0.004901</td>\n",
              "      <td>0.026657</td>\n",
              "      <td>0.071253</td>\n",
              "      <td>0.029363</td>\n",
              "      <td>1.000000</td>\n",
              "      <td>-0.071699</td>\n",
              "      <td>-0.047577</td>\n",
              "      <td>0.020640</td>\n",
              "      <td>0.046089</td>\n",
              "      <td>-0.027968</td>\n",
              "      <td>0.005312</td>\n",
              "      <td>-0.008173</td>\n",
              "      <td>-0.032897</td>\n",
              "      <td>-0.044703</td>\n",
              "      <td>0.405274</td>\n",
              "    </tr>\n",
              "    <tr>\n",
              "      <th>campaign</th>\n",
              "      <td>0.004594</td>\n",
              "      <td>0.029969</td>\n",
              "      <td>0.013109</td>\n",
              "      <td>0.007395</td>\n",
              "      <td>0.033209</td>\n",
              "      <td>0.011022</td>\n",
              "      <td>0.005295</td>\n",
              "      <td>0.077368</td>\n",
              "      <td>0.160763</td>\n",
              "      <td>0.040305</td>\n",
              "      <td>-0.071699</td>\n",
              "      <td>1.000000</td>\n",
              "      <td>0.052584</td>\n",
              "      <td>-0.079141</td>\n",
              "      <td>0.088367</td>\n",
              "      <td>0.150754</td>\n",
              "      <td>0.127836</td>\n",
              "      <td>-0.013733</td>\n",
              "      <td>0.135133</td>\n",
              "      <td>0.144095</td>\n",
              "      <td>-0.066357</td>\n",
              "    </tr>\n",
              "    <tr>\n",
              "      <th>pdays</th>\n",
              "      <td>-0.034369</td>\n",
              "      <td>0.141169</td>\n",
              "      <td>0.042680</td>\n",
              "      <td>0.056312</td>\n",
              "      <td>0.080073</td>\n",
              "      <td>0.010723</td>\n",
              "      <td>0.002034</td>\n",
              "      <td>0.117970</td>\n",
              "      <td>0.240266</td>\n",
              "      <td>0.015854</td>\n",
              "      <td>-0.047577</td>\n",
              "      <td>0.052584</td>\n",
              "      <td>1.000000</td>\n",
              "      <td>-0.587514</td>\n",
              "      <td>0.952213</td>\n",
              "      <td>0.271004</td>\n",
              "      <td>0.078889</td>\n",
              "      <td>-0.091342</td>\n",
              "      <td>0.296899</td>\n",
              "      <td>0.372605</td>\n",
              "      <td>-0.324914</td>\n",
              "    </tr>\n",
              "    <tr>\n",
              "      <th>previous</th>\n",
              "      <td>0.024365</td>\n",
              "      <td>0.135284</td>\n",
              "      <td>0.050257</td>\n",
              "      <td>0.049723</td>\n",
              "      <td>0.102630</td>\n",
              "      <td>0.021688</td>\n",
              "      <td>0.004220</td>\n",
              "      <td>0.212848</td>\n",
              "      <td>0.280649</td>\n",
              "      <td>0.005755</td>\n",
              "      <td>0.020640</td>\n",
              "      <td>-0.079141</td>\n",
              "      <td>-0.587514</td>\n",
              "      <td>1.000000</td>\n",
              "      <td>0.888135</td>\n",
              "      <td>-0.420489</td>\n",
              "      <td>-0.203130</td>\n",
              "      <td>-0.050936</td>\n",
              "      <td>-0.454494</td>\n",
              "      <td>-0.501333</td>\n",
              "      <td>0.230181</td>\n",
              "    </tr>\n",
              "    <tr>\n",
              "      <th>poutcome</th>\n",
              "      <td>0.035627</td>\n",
              "      <td>0.099560</td>\n",
              "      <td>0.036630</td>\n",
              "      <td>0.042282</td>\n",
              "      <td>0.076628</td>\n",
              "      <td>0.016958</td>\n",
              "      <td>0.000000</td>\n",
              "      <td>0.242419</td>\n",
              "      <td>0.242400</td>\n",
              "      <td>0.014579</td>\n",
              "      <td>0.046089</td>\n",
              "      <td>0.088367</td>\n",
              "      <td>0.952213</td>\n",
              "      <td>0.888135</td>\n",
              "      <td>1.000000</td>\n",
              "      <td>0.474278</td>\n",
              "      <td>0.312925</td>\n",
              "      <td>0.178943</td>\n",
              "      <td>0.492066</td>\n",
              "      <td>0.511503</td>\n",
              "      <td>0.320488</td>\n",
              "    </tr>\n",
              "    <tr>\n",
              "      <th>emp.var.rate</th>\n",
              "      <td>-0.000371</td>\n",
              "      <td>0.193545</td>\n",
              "      <td>0.100112</td>\n",
              "      <td>0.060942</td>\n",
              "      <td>0.203288</td>\n",
              "      <td>0.060247</td>\n",
              "      <td>0.003451</td>\n",
              "      <td>0.393584</td>\n",
              "      <td>0.588172</td>\n",
              "      <td>0.035267</td>\n",
              "      <td>-0.027968</td>\n",
              "      <td>0.150754</td>\n",
              "      <td>0.271004</td>\n",
              "      <td>-0.420489</td>\n",
              "      <td>0.474278</td>\n",
              "      <td>1.000000</td>\n",
              "      <td>0.775334</td>\n",
              "      <td>0.196041</td>\n",
              "      <td>0.972245</td>\n",
              "      <td>0.906970</td>\n",
              "      <td>-0.298334</td>\n",
              "    </tr>\n",
              "    <tr>\n",
              "      <th>cons.price.idx</th>\n",
              "      <td>0.000857</td>\n",
              "      <td>0.123262</td>\n",
              "      <td>0.063942</td>\n",
              "      <td>0.104704</td>\n",
              "      <td>0.168339</td>\n",
              "      <td>0.081972</td>\n",
              "      <td>0.017070</td>\n",
              "      <td>0.591474</td>\n",
              "      <td>0.608363</td>\n",
              "      <td>0.019109</td>\n",
              "      <td>0.005312</td>\n",
              "      <td>0.127836</td>\n",
              "      <td>0.078889</td>\n",
              "      <td>-0.203130</td>\n",
              "      <td>0.312925</td>\n",
              "      <td>0.775334</td>\n",
              "      <td>1.000000</td>\n",
              "      <td>0.058986</td>\n",
              "      <td>0.688230</td>\n",
              "      <td>0.522034</td>\n",
              "      <td>-0.136211</td>\n",
              "    </tr>\n",
              "    <tr>\n",
              "      <th>cons.conf.idx</th>\n",
              "      <td>0.129372</td>\n",
              "      <td>0.158268</td>\n",
              "      <td>0.063387</td>\n",
              "      <td>0.116262</td>\n",
              "      <td>0.026752</td>\n",
              "      <td>0.034532</td>\n",
              "      <td>0.015072</td>\n",
              "      <td>0.251614</td>\n",
              "      <td>0.612346</td>\n",
              "      <td>0.066660</td>\n",
              "      <td>-0.008173</td>\n",
              "      <td>-0.013733</td>\n",
              "      <td>-0.091342</td>\n",
              "      <td>-0.050936</td>\n",
              "      <td>0.178943</td>\n",
              "      <td>0.196041</td>\n",
              "      <td>0.058986</td>\n",
              "      <td>1.000000</td>\n",
              "      <td>0.277686</td>\n",
              "      <td>0.100513</td>\n",
              "      <td>0.054878</td>\n",
              "    </tr>\n",
              "    <tr>\n",
              "      <th>euribor3m</th>\n",
              "      <td>0.010767</td>\n",
              "      <td>0.194952</td>\n",
              "      <td>0.110147</td>\n",
              "      <td>0.053005</td>\n",
              "      <td>0.195347</td>\n",
              "      <td>0.059318</td>\n",
              "      <td>0.002889</td>\n",
              "      <td>0.399773</td>\n",
              "      <td>0.578118</td>\n",
              "      <td>0.043796</td>\n",
              "      <td>-0.032897</td>\n",
              "      <td>0.135133</td>\n",
              "      <td>0.296899</td>\n",
              "      <td>-0.454494</td>\n",
              "      <td>0.492066</td>\n",
              "      <td>0.972245</td>\n",
              "      <td>0.688230</td>\n",
              "      <td>0.277686</td>\n",
              "      <td>1.000000</td>\n",
              "      <td>0.945154</td>\n",
              "      <td>-0.307771</td>\n",
              "    </tr>\n",
              "    <tr>\n",
              "      <th>nr.employed</th>\n",
              "      <td>-0.017725</td>\n",
              "      <td>0.225935</td>\n",
              "      <td>0.102835</td>\n",
              "      <td>0.057341</td>\n",
              "      <td>0.189849</td>\n",
              "      <td>0.045896</td>\n",
              "      <td>0.004318</td>\n",
              "      <td>0.269155</td>\n",
              "      <td>0.648327</td>\n",
              "      <td>0.029925</td>\n",
              "      <td>-0.044703</td>\n",
              "      <td>0.144095</td>\n",
              "      <td>0.372605</td>\n",
              "      <td>-0.501333</td>\n",
              "      <td>0.511503</td>\n",
              "      <td>0.906970</td>\n",
              "      <td>0.522034</td>\n",
              "      <td>0.100513</td>\n",
              "      <td>0.945154</td>\n",
              "      <td>1.000000</td>\n",
              "      <td>-0.354678</td>\n",
              "    </tr>\n",
              "    <tr>\n",
              "      <th>y</th>\n",
              "      <td>0.030399</td>\n",
              "      <td>0.152768</td>\n",
              "      <td>0.054570</td>\n",
              "      <td>0.068472</td>\n",
              "      <td>0.099354</td>\n",
              "      <td>0.011748</td>\n",
              "      <td>0.005154</td>\n",
              "      <td>0.144773</td>\n",
              "      <td>0.274395</td>\n",
              "      <td>0.025195</td>\n",
              "      <td>0.405274</td>\n",
              "      <td>-0.066357</td>\n",
              "      <td>-0.324914</td>\n",
              "      <td>0.230181</td>\n",
              "      <td>0.320488</td>\n",
              "      <td>-0.298334</td>\n",
              "      <td>-0.136211</td>\n",
              "      <td>0.054878</td>\n",
              "      <td>-0.307771</td>\n",
              "      <td>-0.354678</td>\n",
              "      <td>1.000000</td>\n",
              "    </tr>\n",
              "  </tbody>\n",
              "</table>\n",
              "</div>"
            ],
            "text/plain": [
              "                     age       job   marital  ...  euribor3m  nr.employed         y\n",
              "age             1.000000  0.504788  0.418870  ...   0.010767    -0.017725  0.030399\n",
              "job             0.504788  1.000000  0.183590  ...   0.194952     0.225935  0.152768\n",
              "marital         0.418870  0.183590  1.000000  ...   0.110147     0.102835  0.054570\n",
              "education       0.268502  0.359526  0.116240  ...   0.053005     0.057341  0.068472\n",
              "default         0.165022  0.152101  0.095434  ...   0.195347     0.189849  0.099354\n",
              "housing         0.001951  0.010630  0.009170  ...   0.059318     0.045896  0.011748\n",
              "loan            0.007368  0.010218  0.000000  ...   0.002889     0.004318  0.005154\n",
              "contact         0.007021  0.127856  0.071993  ...   0.399773     0.269155  0.144773\n",
              "month           0.126287  0.109835  0.050174  ...   0.578118     0.648327  0.274395\n",
              "day_of_week     0.037857  0.016458  0.010888  ...   0.043796     0.029925  0.025195\n",
              "duration       -0.000866  0.028731  0.013022  ...  -0.032897    -0.044703  0.405274\n",
              "campaign        0.004594  0.029969  0.013109  ...   0.135133     0.144095 -0.066357\n",
              "pdays          -0.034369  0.141169  0.042680  ...   0.296899     0.372605 -0.324914\n",
              "previous        0.024365  0.135284  0.050257  ...  -0.454494    -0.501333  0.230181\n",
              "poutcome        0.035627  0.099560  0.036630  ...   0.492066     0.511503  0.320488\n",
              "emp.var.rate   -0.000371  0.193545  0.100112  ...   0.972245     0.906970 -0.298334\n",
              "cons.price.idx  0.000857  0.123262  0.063942  ...   0.688230     0.522034 -0.136211\n",
              "cons.conf.idx   0.129372  0.158268  0.063387  ...   0.277686     0.100513  0.054878\n",
              "euribor3m       0.010767  0.194952  0.110147  ...   1.000000     0.945154 -0.307771\n",
              "nr.employed    -0.017725  0.225935  0.102835  ...   0.945154     1.000000 -0.354678\n",
              "y               0.030399  0.152768  0.054570  ...  -0.307771    -0.354678  1.000000\n",
              "\n",
              "[21 rows x 21 columns]"
            ]
          },
          "metadata": {
            "tags": []
          },
          "execution_count": 20
        }
      ]
    },
    {
      "cell_type": "code",
      "metadata": {
        "id": "QWeksKltzVEL"
      },
      "source": [
        "unw_cols=['age','job','marital','education','default','housing','loan','contact','month','day_of_week','duration','campaign','pdays','previous',\n",
        "          'poutcome','emp.var.rate','cons.price.idx','cons.conf.idx','euribor3m','nr.employed']\n",
        "correlations=cat_corr['corr'].drop(unw_cols)"
      ],
      "execution_count": 21,
      "outputs": []
    },
    {
      "cell_type": "code",
      "metadata": {
        "colab": {
          "base_uri": "https://localhost:8080/",
          "height": 101
        },
        "id": "eo_EmVUZ0uO4",
        "outputId": "98ebb2e9-50b8-456a-f3d1-cfed12c70a93"
      },
      "source": [
        "correlations"
      ],
      "execution_count": 22,
      "outputs": [
        {
          "output_type": "execute_result",
          "data": {
            "text/html": [
              "<div>\n",
              "<style scoped>\n",
              "    .dataframe tbody tr th:only-of-type {\n",
              "        vertical-align: middle;\n",
              "    }\n",
              "\n",
              "    .dataframe tbody tr th {\n",
              "        vertical-align: top;\n",
              "    }\n",
              "\n",
              "    .dataframe thead th {\n",
              "        text-align: right;\n",
              "    }\n",
              "</style>\n",
              "<table border=\"1\" class=\"dataframe\">\n",
              "  <thead>\n",
              "    <tr style=\"text-align: right;\">\n",
              "      <th></th>\n",
              "      <th>age</th>\n",
              "      <th>job</th>\n",
              "      <th>marital</th>\n",
              "      <th>education</th>\n",
              "      <th>default</th>\n",
              "      <th>housing</th>\n",
              "      <th>loan</th>\n",
              "      <th>contact</th>\n",
              "      <th>month</th>\n",
              "      <th>day_of_week</th>\n",
              "      <th>duration</th>\n",
              "      <th>campaign</th>\n",
              "      <th>pdays</th>\n",
              "      <th>previous</th>\n",
              "      <th>poutcome</th>\n",
              "      <th>emp.var.rate</th>\n",
              "      <th>cons.price.idx</th>\n",
              "      <th>cons.conf.idx</th>\n",
              "      <th>euribor3m</th>\n",
              "      <th>nr.employed</th>\n",
              "      <th>y</th>\n",
              "    </tr>\n",
              "  </thead>\n",
              "  <tbody>\n",
              "    <tr>\n",
              "      <th>y</th>\n",
              "      <td>0.030399</td>\n",
              "      <td>0.152768</td>\n",
              "      <td>0.05457</td>\n",
              "      <td>0.068472</td>\n",
              "      <td>0.099354</td>\n",
              "      <td>0.011748</td>\n",
              "      <td>0.005154</td>\n",
              "      <td>0.144773</td>\n",
              "      <td>0.274395</td>\n",
              "      <td>0.025195</td>\n",
              "      <td>0.405274</td>\n",
              "      <td>-0.066357</td>\n",
              "      <td>-0.324914</td>\n",
              "      <td>0.230181</td>\n",
              "      <td>0.320488</td>\n",
              "      <td>-0.298334</td>\n",
              "      <td>-0.136211</td>\n",
              "      <td>0.054878</td>\n",
              "      <td>-0.307771</td>\n",
              "      <td>-0.354678</td>\n",
              "      <td>1.0</td>\n",
              "    </tr>\n",
              "  </tbody>\n",
              "</table>\n",
              "</div>"
            ],
            "text/plain": [
              "        age       job  marital  ...  euribor3m  nr.employed    y\n",
              "y  0.030399  0.152768  0.05457  ...  -0.307771    -0.354678  1.0\n",
              "\n",
              "[1 rows x 21 columns]"
            ]
          },
          "metadata": {
            "tags": []
          },
          "execution_count": 22
        }
      ]
    },
    {
      "cell_type": "markdown",
      "metadata": {
        "id": "Ljq6dGq5AR_-"
      },
      "source": [
        "These are the correlation coefficients of all the variables in the dataframe. The variables which have this value greater than 0.1 are being considered and other variables are dropped."
      ]
    },
    {
      "cell_type": "code",
      "metadata": {
        "id": "VtjutgN40zyr"
      },
      "source": [
        "c=[]\n",
        "v=[]\n",
        "for i in unw_cols:\n",
        "  if abs(correlations[i]['y'])>0.1:\n",
        "    c.append(i)\n",
        "    v.append(correlations[i]['y'])"
      ],
      "execution_count": 23,
      "outputs": []
    },
    {
      "cell_type": "code",
      "metadata": {
        "colab": {
          "base_uri": "https://localhost:8080/"
        },
        "id": "d3cjhgSk7tti",
        "outputId": "36da1c3e-23e5-430a-bed3-6f5e839955b7"
      },
      "source": [
        "v"
      ],
      "execution_count": 24,
      "outputs": [
        {
          "output_type": "execute_result",
          "data": {
            "text/plain": [
              "[0.15276755102517953,\n",
              " 0.1447730557120007,\n",
              " 0.27439487093066833,\n",
              " 0.40527380067931484,\n",
              " -0.3249144776166327,\n",
              " 0.2301810032165918,\n",
              " 0.32048796034156984,\n",
              " -0.29833442615937866,\n",
              " -0.1362112128192462,\n",
              " -0.3077714039407208,\n",
              " -0.35467829592143624]"
            ]
          },
          "metadata": {
            "tags": []
          },
          "execution_count": 24
        }
      ]
    },
    {
      "cell_type": "markdown",
      "metadata": {
        "id": "jhQP61kNAllf"
      },
      "source": [
        "The final 12 variables that are to taken into training and testing are,"
      ]
    },
    {
      "cell_type": "code",
      "metadata": {
        "colab": {
          "base_uri": "https://localhost:8080/"
        },
        "id": "Lff0T6nk5FT6",
        "outputId": "4df6ad71-903d-4512-8ccf-866adfaa7f47"
      },
      "source": [
        "c"
      ],
      "execution_count": 25,
      "outputs": [
        {
          "output_type": "execute_result",
          "data": {
            "text/plain": [
              "['job',\n",
              " 'contact',\n",
              " 'month',\n",
              " 'duration',\n",
              " 'pdays',\n",
              " 'previous',\n",
              " 'poutcome',\n",
              " 'emp.var.rate',\n",
              " 'cons.price.idx',\n",
              " 'euribor3m',\n",
              " 'nr.employed']"
            ]
          },
          "metadata": {
            "tags": []
          },
          "execution_count": 25
        }
      ]
    },
    {
      "cell_type": "code",
      "metadata": {
        "id": "W3sd4IRh1791"
      },
      "source": [
        "finaldf=df1.copy()\n",
        "for i in unw_cols:\n",
        "  if i not in c:\n",
        "    finaldf = finaldf.drop(columns=i)"
      ],
      "execution_count": 26,
      "outputs": []
    },
    {
      "cell_type": "code",
      "metadata": {
        "colab": {
          "base_uri": "https://localhost:8080/",
          "height": 423
        },
        "id": "Vn-KjwDY4--m",
        "outputId": "c76caffd-684d-470b-db49-0d54113d3c9c"
      },
      "source": [
        "finaldf"
      ],
      "execution_count": 27,
      "outputs": [
        {
          "output_type": "execute_result",
          "data": {
            "text/html": [
              "<div>\n",
              "<style scoped>\n",
              "    .dataframe tbody tr th:only-of-type {\n",
              "        vertical-align: middle;\n",
              "    }\n",
              "\n",
              "    .dataframe tbody tr th {\n",
              "        vertical-align: top;\n",
              "    }\n",
              "\n",
              "    .dataframe thead th {\n",
              "        text-align: right;\n",
              "    }\n",
              "</style>\n",
              "<table border=\"1\" class=\"dataframe\">\n",
              "  <thead>\n",
              "    <tr style=\"text-align: right;\">\n",
              "      <th></th>\n",
              "      <th>job</th>\n",
              "      <th>contact</th>\n",
              "      <th>month</th>\n",
              "      <th>duration</th>\n",
              "      <th>pdays</th>\n",
              "      <th>previous</th>\n",
              "      <th>poutcome</th>\n",
              "      <th>emp.var.rate</th>\n",
              "      <th>cons.price.idx</th>\n",
              "      <th>euribor3m</th>\n",
              "      <th>nr.employed</th>\n",
              "      <th>y</th>\n",
              "    </tr>\n",
              "  </thead>\n",
              "  <tbody>\n",
              "    <tr>\n",
              "      <th>0</th>\n",
              "      <td>housemaid</td>\n",
              "      <td>telephone</td>\n",
              "      <td>may</td>\n",
              "      <td>261</td>\n",
              "      <td>999</td>\n",
              "      <td>0</td>\n",
              "      <td>nonexistent</td>\n",
              "      <td>1.1</td>\n",
              "      <td>93.994</td>\n",
              "      <td>4.857</td>\n",
              "      <td>5191.0</td>\n",
              "      <td>0</td>\n",
              "    </tr>\n",
              "    <tr>\n",
              "      <th>1</th>\n",
              "      <td>services</td>\n",
              "      <td>telephone</td>\n",
              "      <td>may</td>\n",
              "      <td>149</td>\n",
              "      <td>999</td>\n",
              "      <td>0</td>\n",
              "      <td>nonexistent</td>\n",
              "      <td>1.1</td>\n",
              "      <td>93.994</td>\n",
              "      <td>4.857</td>\n",
              "      <td>5191.0</td>\n",
              "      <td>0</td>\n",
              "    </tr>\n",
              "    <tr>\n",
              "      <th>2</th>\n",
              "      <td>services</td>\n",
              "      <td>telephone</td>\n",
              "      <td>may</td>\n",
              "      <td>226</td>\n",
              "      <td>999</td>\n",
              "      <td>0</td>\n",
              "      <td>nonexistent</td>\n",
              "      <td>1.1</td>\n",
              "      <td>93.994</td>\n",
              "      <td>4.857</td>\n",
              "      <td>5191.0</td>\n",
              "      <td>0</td>\n",
              "    </tr>\n",
              "    <tr>\n",
              "      <th>3</th>\n",
              "      <td>admin.</td>\n",
              "      <td>telephone</td>\n",
              "      <td>may</td>\n",
              "      <td>151</td>\n",
              "      <td>999</td>\n",
              "      <td>0</td>\n",
              "      <td>nonexistent</td>\n",
              "      <td>1.1</td>\n",
              "      <td>93.994</td>\n",
              "      <td>4.857</td>\n",
              "      <td>5191.0</td>\n",
              "      <td>0</td>\n",
              "    </tr>\n",
              "    <tr>\n",
              "      <th>4</th>\n",
              "      <td>services</td>\n",
              "      <td>telephone</td>\n",
              "      <td>may</td>\n",
              "      <td>307</td>\n",
              "      <td>999</td>\n",
              "      <td>0</td>\n",
              "      <td>nonexistent</td>\n",
              "      <td>1.1</td>\n",
              "      <td>93.994</td>\n",
              "      <td>4.857</td>\n",
              "      <td>5191.0</td>\n",
              "      <td>0</td>\n",
              "    </tr>\n",
              "    <tr>\n",
              "      <th>...</th>\n",
              "      <td>...</td>\n",
              "      <td>...</td>\n",
              "      <td>...</td>\n",
              "      <td>...</td>\n",
              "      <td>...</td>\n",
              "      <td>...</td>\n",
              "      <td>...</td>\n",
              "      <td>...</td>\n",
              "      <td>...</td>\n",
              "      <td>...</td>\n",
              "      <td>...</td>\n",
              "      <td>...</td>\n",
              "    </tr>\n",
              "    <tr>\n",
              "      <th>41183</th>\n",
              "      <td>retired</td>\n",
              "      <td>cellular</td>\n",
              "      <td>nov</td>\n",
              "      <td>334</td>\n",
              "      <td>999</td>\n",
              "      <td>0</td>\n",
              "      <td>nonexistent</td>\n",
              "      <td>-1.1</td>\n",
              "      <td>94.767</td>\n",
              "      <td>1.028</td>\n",
              "      <td>4963.6</td>\n",
              "      <td>1</td>\n",
              "    </tr>\n",
              "    <tr>\n",
              "      <th>41184</th>\n",
              "      <td>blue-collar</td>\n",
              "      <td>cellular</td>\n",
              "      <td>nov</td>\n",
              "      <td>383</td>\n",
              "      <td>999</td>\n",
              "      <td>0</td>\n",
              "      <td>nonexistent</td>\n",
              "      <td>-1.1</td>\n",
              "      <td>94.767</td>\n",
              "      <td>1.028</td>\n",
              "      <td>4963.6</td>\n",
              "      <td>0</td>\n",
              "    </tr>\n",
              "    <tr>\n",
              "      <th>41185</th>\n",
              "      <td>retired</td>\n",
              "      <td>cellular</td>\n",
              "      <td>nov</td>\n",
              "      <td>189</td>\n",
              "      <td>999</td>\n",
              "      <td>0</td>\n",
              "      <td>nonexistent</td>\n",
              "      <td>-1.1</td>\n",
              "      <td>94.767</td>\n",
              "      <td>1.028</td>\n",
              "      <td>4963.6</td>\n",
              "      <td>0</td>\n",
              "    </tr>\n",
              "    <tr>\n",
              "      <th>41186</th>\n",
              "      <td>technician</td>\n",
              "      <td>cellular</td>\n",
              "      <td>nov</td>\n",
              "      <td>442</td>\n",
              "      <td>999</td>\n",
              "      <td>0</td>\n",
              "      <td>nonexistent</td>\n",
              "      <td>-1.1</td>\n",
              "      <td>94.767</td>\n",
              "      <td>1.028</td>\n",
              "      <td>4963.6</td>\n",
              "      <td>1</td>\n",
              "    </tr>\n",
              "    <tr>\n",
              "      <th>41187</th>\n",
              "      <td>retired</td>\n",
              "      <td>cellular</td>\n",
              "      <td>nov</td>\n",
              "      <td>239</td>\n",
              "      <td>999</td>\n",
              "      <td>1</td>\n",
              "      <td>failure</td>\n",
              "      <td>-1.1</td>\n",
              "      <td>94.767</td>\n",
              "      <td>1.028</td>\n",
              "      <td>4963.6</td>\n",
              "      <td>0</td>\n",
              "    </tr>\n",
              "  </tbody>\n",
              "</table>\n",
              "<p>41188 rows × 12 columns</p>\n",
              "</div>"
            ],
            "text/plain": [
              "               job    contact month  ...  euribor3m  nr.employed  y\n",
              "0        housemaid  telephone   may  ...      4.857       5191.0  0\n",
              "1         services  telephone   may  ...      4.857       5191.0  0\n",
              "2         services  telephone   may  ...      4.857       5191.0  0\n",
              "3           admin.  telephone   may  ...      4.857       5191.0  0\n",
              "4         services  telephone   may  ...      4.857       5191.0  0\n",
              "...            ...        ...   ...  ...        ...          ... ..\n",
              "41183      retired   cellular   nov  ...      1.028       4963.6  1\n",
              "41184  blue-collar   cellular   nov  ...      1.028       4963.6  0\n",
              "41185      retired   cellular   nov  ...      1.028       4963.6  0\n",
              "41186   technician   cellular   nov  ...      1.028       4963.6  1\n",
              "41187      retired   cellular   nov  ...      1.028       4963.6  0\n",
              "\n",
              "[41188 rows x 12 columns]"
            ]
          },
          "metadata": {
            "tags": []
          },
          "execution_count": 27
        }
      ]
    },
    {
      "cell_type": "markdown",
      "metadata": {
        "id": "AhlBv8HdneAJ"
      },
      "source": [
        "## Training and Testing"
      ]
    },
    {
      "cell_type": "code",
      "metadata": {
        "id": "Tav611z7gGIS"
      },
      "source": [
        "fdf=pd.get_dummies(finaldf)"
      ],
      "execution_count": 28,
      "outputs": []
    },
    {
      "cell_type": "code",
      "metadata": {
        "id": "25CaxUMq5eHD"
      },
      "source": [
        "X=fdf.drop(columns= 'y')\n",
        "Y=fdf.y"
      ],
      "execution_count": 29,
      "outputs": []
    },
    {
      "cell_type": "code",
      "metadata": {
        "id": "-hLJntUG5zdv"
      },
      "source": [
        "X_train, X_test, y_train, y_test = train_test_split( X, Y, test_size=0.2, random_state = 42)"
      ],
      "execution_count": 30,
      "outputs": []
    },
    {
      "cell_type": "markdown",
      "metadata": {
        "id": "gFhiNKMRquS9"
      },
      "source": [
        "As previously mentioned, the class imbalance has to be taken into account.\n",
        "We use 'imblearn' library which is created for issues caused by class imbalance.\n",
        "\n",
        "Synthetic Minority class rows are upsampled into the dataset for this purpose. It is done by calling SMOTE method from imblearn class. This increases the size of the training dataset by 60%.\n"
      ]
    },
    {
      "cell_type": "code",
      "metadata": {
        "colab": {
          "base_uri": "https://localhost:8080/"
        },
        "id": "ikM-9nNrQ8l_",
        "outputId": "5ca8efa7-063a-48f0-d7d4-90ebbdec9faf"
      },
      "source": [
        "sm = SMOTE(random_state=42, ratio=1.0)\n",
        "X_train, y_train = sm.fit_sample(X_train, y_train)"
      ],
      "execution_count": 31,
      "outputs": [
        {
          "output_type": "stream",
          "text": [
            "/usr/local/lib/python3.7/dist-packages/sklearn/utils/deprecation.py:87: FutureWarning: Function safe_indexing is deprecated; safe_indexing is deprecated in version 0.22 and will be removed in version 0.24.\n",
            "  warnings.warn(msg, category=FutureWarning)\n"
          ],
          "name": "stderr"
        }
      ]
    },
    {
      "cell_type": "markdown",
      "metadata": {
        "id": "CzkExQELCLye"
      },
      "source": [
        "## Evalutaion of Models:\n",
        "\n",
        "In a dataset with imbalanced target classes, the model tends to have high accuracy even if it is not predicting the minority class correctly. \n",
        "\n",
        "Accuracy is not a right measure here. So, Recall score is calculated for a better evaluation of the different models.\n",
        "\n",
        "The models used here are:\n",
        "1. Logistic Regression\n",
        "2. K-Nearest Neighbour\n",
        "3. Linear Support Vector Machine\n",
        "4. Random Forest Classifier"
      ]
    },
    {
      "cell_type": "markdown",
      "metadata": {
        "id": "PO1kVuxqnf7f"
      },
      "source": [
        "### Logistic Regression"
      ]
    },
    {
      "cell_type": "code",
      "metadata": {
        "colab": {
          "base_uri": "https://localhost:8080/"
        },
        "id": "wR3ql0l9hCmM",
        "outputId": "3df26796-a37a-45a2-eb1b-e7da9706cf0d"
      },
      "source": [
        "from sklearn.linear_model import LogisticRegression\n",
        "lr=LogisticRegression(max_iter=1000)\n",
        "lr.fit(X_train, y_train)\n",
        "print(\"score on test: \" + str(lr.score(X_test, y_test)))\n",
        "print(\"score on train: \"+ str(lr.score(X_train, y_train)))\n",
        "lrpred=lr.predict(X_test)\n",
        "print('recall score: '+ str(recall_score(y_test,lrpred)))"
      ],
      "execution_count": 32,
      "outputs": [
        {
          "output_type": "stream",
          "text": [
            "score on test: 0.8600388443797038\n",
            "score on train: 0.871704564882886\n",
            "recall score: 0.879144385026738\n"
          ],
          "name": "stdout"
        }
      ]
    },
    {
      "cell_type": "markdown",
      "metadata": {
        "id": "If6pWWZQo9sW"
      },
      "source": [
        "### K-Nearest Neighbour"
      ]
    },
    {
      "cell_type": "code",
      "metadata": {
        "colab": {
          "base_uri": "https://localhost:8080/"
        },
        "id": "55B13PZ9hJtX",
        "outputId": "edcd3eef-a636-4d32-f7a2-72b2711e8eee"
      },
      "source": [
        "from sklearn.neighbors import KNeighborsClassifier\n",
        "knn = KNeighborsClassifier(algorithm = 'brute', n_jobs=-1)\n",
        "knn.fit(X_train, y_train)\n",
        "print(\"train shape: \" + str(X_train.shape))\n",
        "print(\"score on test: \" + str(knn.score(X_test, y_test)))\n",
        "print(\"score on train: \"+ str(knn.score(X_train, y_train)))\n",
        "knnpred=knn.predict(X_test)\n",
        "print('recall score: '+ str(recall_score(y_test,knnpred)))"
      ],
      "execution_count": 33,
      "outputs": [
        {
          "output_type": "stream",
          "text": [
            "train shape: (58490, 34)\n",
            "score on test: 0.8480213644088371\n",
            "score on train: 0.9339716190801847\n",
            "recall score: 0.8310160427807487\n"
          ],
          "name": "stdout"
        }
      ]
    },
    {
      "cell_type": "markdown",
      "metadata": {
        "id": "C0OhBN7CpFYV"
      },
      "source": [
        "### Linear Support Vector Machine"
      ]
    },
    {
      "cell_type": "code",
      "metadata": {
        "colab": {
          "base_uri": "https://localhost:8080/"
        },
        "id": "W29W5DU6hZdp",
        "outputId": "c0322e5d-dfde-4b7a-dfbe-1175932983fd"
      },
      "source": [
        "from sklearn.svm import LinearSVC\n",
        "svm=LinearSVC(C=0.0001)\n",
        "svm.fit(X_train, y_train)\n",
        "print(\"score on test: \" + str(svm.score(X_test, y_test)))\n",
        "print(\"score on train: \"+ str(svm.score(X_train, y_train)))\n",
        "svmpred=svm.predict(X_test)\n",
        "print('recall score: '+ str(recall_score(y_test,svmpred)))"
      ],
      "execution_count": 34,
      "outputs": [
        {
          "output_type": "stream",
          "text": [
            "score on test: 0.9054382131585337\n",
            "score on train: 0.78871601983245\n",
            "recall score: 0.651336898395722\n"
          ],
          "name": "stdout"
        },
        {
          "output_type": "stream",
          "text": [
            "/usr/local/lib/python3.7/dist-packages/sklearn/svm/_base.py:947: ConvergenceWarning: Liblinear failed to converge, increase the number of iterations.\n",
            "  \"the number of iterations.\", ConvergenceWarning)\n"
          ],
          "name": "stderr"
        }
      ]
    },
    {
      "cell_type": "markdown",
      "metadata": {
        "id": "HeoF8rDypQXq"
      },
      "source": [
        "### Random Forest Classifier"
      ]
    },
    {
      "cell_type": "code",
      "metadata": {
        "colab": {
          "base_uri": "https://localhost:8080/"
        },
        "id": "-igKc-rLmFS2",
        "outputId": "5c8a8b50-1199-4eda-c04d-c5be229bf425"
      },
      "source": [
        "from sklearn.ensemble import RandomForestClassifier\n",
        "rf = RandomForestClassifier(n_estimators=30, max_depth=9)\n",
        "rf.fit(X_train, y_train)\n",
        "print(\"score on test: \" + str(rf.score(X_test, y_test)))\n",
        "print(\"score on train: \"+ str(rf.score(X_train, y_train)))\n",
        "rfpred=rf.predict(X_test)\n",
        "print('recall score: '+ str(recall_score(y_test,rfpred)))"
      ],
      "execution_count": 35,
      "outputs": [
        {
          "output_type": "stream",
          "text": [
            "score on test: 0.8790968681718864\n",
            "score on train: 0.9295948025303471\n",
            "recall score: 0.7636363636363637\n"
          ],
          "name": "stdout"
        }
      ]
    },
    {
      "cell_type": "markdown",
      "metadata": {
        "id": "_neA_U81CxTe"
      },
      "source": [
        "## Conclusion:\n",
        "\n",
        "Decent Recall scores are produced from all models but Logistic Regression and K-Nearest Neighbour models have very good balance of good accuracy with a good recall score. "
      ]
    },
    {
      "cell_type": "markdown",
      "metadata": {
        "id": "c30PwWpBcPM3"
      },
      "source": [
        "The Predictions from all models:"
      ]
    },
    {
      "cell_type": "code",
      "metadata": {
        "id": "1mImJd4ddKRj"
      },
      "source": [
        "lrpred, svmpred, knnpred, rfpred"
      ],
      "execution_count": null,
      "outputs": []
    }
  ]
}